{
 "cells": [
  {
   "cell_type": "code",
   "execution_count": 1,
   "metadata": {
    "collapsed": true
   },
   "outputs": [],
   "source": [
    "# packages for data manipulation\n",
    "import pandas as pd\n",
    "import numpy as np\n",
    "\n",
    "# packages used to create the game recommender \n",
    "from sklearn.metrics.pairwise import pairwise_distances\n",
    "from sklearn.metrics.pairwise import euclidean_distances\n",
    "from sklearn.preprocessing import StandardScaler\n",
    "\n",
    "# data visualization packages\n",
    "import matplotlib.pyplot as plt \n",
    "import seaborn as sns\n",
    "\n",
    "\n",
    "%matplotlib inline"
   ]
  },
  {
   "cell_type": "code",
   "execution_count": 2,
   "metadata": {
    "collapsed": true
   },
   "outputs": [],
   "source": [
    "# importing Steam data from 2016 into a pandas dataframe\n",
    "\n",
    "df = pd.read_csv('./steam_data.csv')"
   ]
  },
  {
   "cell_type": "code",
   "execution_count": 3,
   "metadata": {},
   "outputs": [
    {
     "data": {
      "text/html": [
       "<div>\n",
       "<style scoped>\n",
       "    .dataframe tbody tr th:only-of-type {\n",
       "        vertical-align: middle;\n",
       "    }\n",
       "\n",
       "    .dataframe tbody tr th {\n",
       "        vertical-align: top;\n",
       "    }\n",
       "\n",
       "    .dataframe thead th {\n",
       "        text-align: right;\n",
       "    }\n",
       "</style>\n",
       "<table border=\"1\" class=\"dataframe\">\n",
       "  <thead>\n",
       "    <tr style=\"text-align: right;\">\n",
       "      <th></th>\n",
       "      <th>User ID</th>\n",
       "      <th>Game Title</th>\n",
       "      <th>Hours Played</th>\n",
       "    </tr>\n",
       "  </thead>\n",
       "  <tbody>\n",
       "    <tr>\n",
       "      <th>0</th>\n",
       "      <td>151603712</td>\n",
       "      <td>The Elder Scrolls V Skyrim</td>\n",
       "      <td>273.0</td>\n",
       "    </tr>\n",
       "    <tr>\n",
       "      <th>1</th>\n",
       "      <td>151603712</td>\n",
       "      <td>Fallout 4</td>\n",
       "      <td>87.0</td>\n",
       "    </tr>\n",
       "    <tr>\n",
       "      <th>2</th>\n",
       "      <td>151603712</td>\n",
       "      <td>Spore</td>\n",
       "      <td>14.9</td>\n",
       "    </tr>\n",
       "    <tr>\n",
       "      <th>3</th>\n",
       "      <td>151603712</td>\n",
       "      <td>Fallout New Vegas</td>\n",
       "      <td>12.1</td>\n",
       "    </tr>\n",
       "    <tr>\n",
       "      <th>4</th>\n",
       "      <td>151603712</td>\n",
       "      <td>Left 4 Dead 2</td>\n",
       "      <td>8.9</td>\n",
       "    </tr>\n",
       "  </tbody>\n",
       "</table>\n",
       "</div>"
      ],
      "text/plain": [
       "     User ID                  Game Title  Hours Played\n",
       "0  151603712  The Elder Scrolls V Skyrim         273.0\n",
       "1  151603712                   Fallout 4          87.0\n",
       "2  151603712                       Spore          14.9\n",
       "3  151603712           Fallout New Vegas          12.1\n",
       "4  151603712               Left 4 Dead 2           8.9"
      ]
     },
     "execution_count": 3,
     "metadata": {},
     "output_type": "execute_result"
    }
   ],
   "source": [
    "# inspecting the dataframe\n",
    "\n",
    "df.head()"
   ]
  },
  {
   "cell_type": "code",
   "execution_count": 4,
   "metadata": {},
   "outputs": [
    {
     "data": {
      "text/plain": [
       "(70489, 3)"
      ]
     },
     "execution_count": 4,
     "metadata": {},
     "output_type": "execute_result"
    }
   ],
   "source": [
    "# checking the shape of the dataframe\n",
    "\n",
    "df.shape"
   ]
  },
  {
   "cell_type": "code",
   "execution_count": 7,
   "metadata": {
    "collapsed": true
   },
   "outputs": [],
   "source": [
    "# creating a pivot table as I find them easy to work with \n",
    "\n",
    "pivot = pd.pivot_table(df, index='User ID',columns='Game Title',values='Hours Played')"
   ]
  },
  {
   "cell_type": "code",
   "execution_count": 8,
   "metadata": {
    "collapsed": true
   },
   "outputs": [],
   "source": [
    "# replacing NaN's with 0's\n",
    "\n",
    "pivot.fillna(0,inplace=True)"
   ]
  },
  {
   "cell_type": "code",
   "execution_count": 9,
   "metadata": {},
   "outputs": [
    {
     "data": {
      "text/plain": [
       "(11350, 3600)"
      ]
     },
     "execution_count": 9,
     "metadata": {},
     "output_type": "execute_result"
    }
   ],
   "source": [
    "# checking shape of pivot table\n",
    "\n",
    "pivot.shape"
   ]
  },
  {
   "cell_type": "code",
   "execution_count": 10,
   "metadata": {},
   "outputs": [
    {
     "data": {
      "text/plain": [
       "array([[-0.00938688, -0.01532983, -0.01495176, ..., -0.02384842,\n",
       "        -0.02784376, -0.01123474],\n",
       "       [-0.00938688, -0.01532983, -0.01495176, ..., -0.02384842,\n",
       "        -0.02784376, -0.01123474],\n",
       "       [-0.00938688, -0.01532983, -0.01495176, ..., -0.02384842,\n",
       "        -0.02784376, -0.01123474],\n",
       "       ...,\n",
       "       [-0.00938688, -0.01532983, -0.01495176, ..., -0.02384842,\n",
       "        -0.02784376, -0.01123474],\n",
       "       [-0.00938688, -0.01532983, -0.01495176, ..., -0.02384842,\n",
       "        -0.02784376, -0.01123474],\n",
       "       [-0.00938688, -0.01532983, -0.01495176, ..., -0.02384842,\n",
       "        -0.02784376, -0.01123474]])"
      ]
     },
     "execution_count": 10,
     "metadata": {},
     "output_type": "execute_result"
    }
   ],
   "source": [
    "# scaling my data\n",
    "\n",
    "ss = StandardScaler()\n",
    "ss.fit_transform(pivot)"
   ]
  },
  {
   "cell_type": "code",
   "execution_count": 11,
   "metadata": {
    "collapsed": true
   },
   "outputs": [],
   "source": [
    "# using pairwise distance to calculate correlation between users. I tried various metrics including: euclidean,hamming, etc.\n",
    "# Spearman's correlation created the most accurate recommendations\n",
    "\n",
    "distances = 1-pairwise_distances(pivot, metric='correlation')"
   ]
  },
  {
   "cell_type": "code",
   "execution_count": 12,
   "metadata": {
    "collapsed": true
   },
   "outputs": [],
   "source": [
    "# putting distances in a df for visibility\n",
    "\n",
    "distance_df = pd.DataFrame(distances,index=pivot.index, columns=pivot.index)"
   ]
  },
  {
   "cell_type": "code",
   "execution_count": 13,
   "metadata": {
    "scrolled": true
   },
   "outputs": [
    {
     "data": {
      "text/html": [
       "<div>\n",
       "<style scoped>\n",
       "    .dataframe tbody tr th:only-of-type {\n",
       "        vertical-align: middle;\n",
       "    }\n",
       "\n",
       "    .dataframe tbody tr th {\n",
       "        vertical-align: top;\n",
       "    }\n",
       "\n",
       "    .dataframe thead th {\n",
       "        text-align: right;\n",
       "    }\n",
       "</style>\n",
       "<table border=\"1\" class=\"dataframe\">\n",
       "  <thead>\n",
       "    <tr style=\"text-align: right;\">\n",
       "      <th>User ID</th>\n",
       "      <th>5250</th>\n",
       "      <th>76767</th>\n",
       "      <th>86540</th>\n",
       "      <th>144736</th>\n",
       "      <th>181212</th>\n",
       "      <th>229911</th>\n",
       "      <th>298950</th>\n",
       "      <th>381543</th>\n",
       "      <th>547685</th>\n",
       "      <th>554278</th>\n",
       "      <th>...</th>\n",
       "      <th>309228590</th>\n",
       "      <th>309255941</th>\n",
       "      <th>309262440</th>\n",
       "      <th>309265377</th>\n",
       "      <th>309404240</th>\n",
       "      <th>309434439</th>\n",
       "      <th>309554670</th>\n",
       "      <th>309626088</th>\n",
       "      <th>309824202</th>\n",
       "      <th>309903146</th>\n",
       "    </tr>\n",
       "    <tr>\n",
       "      <th>User ID</th>\n",
       "      <th></th>\n",
       "      <th></th>\n",
       "      <th></th>\n",
       "      <th></th>\n",
       "      <th></th>\n",
       "      <th></th>\n",
       "      <th></th>\n",
       "      <th></th>\n",
       "      <th></th>\n",
       "      <th></th>\n",
       "      <th></th>\n",
       "      <th></th>\n",
       "      <th></th>\n",
       "      <th></th>\n",
       "      <th></th>\n",
       "      <th></th>\n",
       "      <th></th>\n",
       "      <th></th>\n",
       "      <th></th>\n",
       "      <th></th>\n",
       "      <th></th>\n",
       "    </tr>\n",
       "  </thead>\n",
       "  <tbody>\n",
       "    <tr>\n",
       "      <th>5250</th>\n",
       "      <td>1.000000</td>\n",
       "      <td>0.001565</td>\n",
       "      <td>-0.000756</td>\n",
       "      <td>-0.000398</td>\n",
       "      <td>-0.000475</td>\n",
       "      <td>-0.000738</td>\n",
       "      <td>0.014971</td>\n",
       "      <td>-0.000398</td>\n",
       "      <td>-0.000417</td>\n",
       "      <td>-0.000509</td>\n",
       "      <td>...</td>\n",
       "      <td>0.000873</td>\n",
       "      <td>-0.000398</td>\n",
       "      <td>0.004685</td>\n",
       "      <td>-0.000517</td>\n",
       "      <td>0.000288</td>\n",
       "      <td>0.000873</td>\n",
       "      <td>-0.000398</td>\n",
       "      <td>-0.000398</td>\n",
       "      <td>0.000873</td>\n",
       "      <td>0.000873</td>\n",
       "    </tr>\n",
       "    <tr>\n",
       "      <th>76767</th>\n",
       "      <td>0.001565</td>\n",
       "      <td>1.000000</td>\n",
       "      <td>-0.001089</td>\n",
       "      <td>0.685340</td>\n",
       "      <td>0.668920</td>\n",
       "      <td>0.338205</td>\n",
       "      <td>0.001733</td>\n",
       "      <td>0.685340</td>\n",
       "      <td>0.036828</td>\n",
       "      <td>0.049974</td>\n",
       "      <td>...</td>\n",
       "      <td>-0.000641</td>\n",
       "      <td>-0.000641</td>\n",
       "      <td>-0.000641</td>\n",
       "      <td>-0.000833</td>\n",
       "      <td>-0.000880</td>\n",
       "      <td>-0.000641</td>\n",
       "      <td>-0.000641</td>\n",
       "      <td>0.023980</td>\n",
       "      <td>-0.000641</td>\n",
       "      <td>-0.000641</td>\n",
       "    </tr>\n",
       "    <tr>\n",
       "      <th>86540</th>\n",
       "      <td>-0.000756</td>\n",
       "      <td>-0.001089</td>\n",
       "      <td>1.000000</td>\n",
       "      <td>-0.000528</td>\n",
       "      <td>-0.000630</td>\n",
       "      <td>-0.000992</td>\n",
       "      <td>0.103222</td>\n",
       "      <td>-0.000528</td>\n",
       "      <td>-0.000553</td>\n",
       "      <td>0.001662</td>\n",
       "      <td>...</td>\n",
       "      <td>-0.000528</td>\n",
       "      <td>-0.000528</td>\n",
       "      <td>-0.000528</td>\n",
       "      <td>-0.000686</td>\n",
       "      <td>-0.000726</td>\n",
       "      <td>-0.000528</td>\n",
       "      <td>-0.000528</td>\n",
       "      <td>0.004690</td>\n",
       "      <td>-0.000528</td>\n",
       "      <td>-0.000528</td>\n",
       "    </tr>\n",
       "    <tr>\n",
       "      <th>144736</th>\n",
       "      <td>-0.000398</td>\n",
       "      <td>0.685340</td>\n",
       "      <td>-0.000528</td>\n",
       "      <td>1.000000</td>\n",
       "      <td>0.976184</td>\n",
       "      <td>0.216129</td>\n",
       "      <td>-0.000448</td>\n",
       "      <td>1.000000</td>\n",
       "      <td>0.044666</td>\n",
       "      <td>-0.000355</td>\n",
       "      <td>...</td>\n",
       "      <td>-0.000278</td>\n",
       "      <td>-0.000278</td>\n",
       "      <td>-0.000278</td>\n",
       "      <td>-0.000361</td>\n",
       "      <td>-0.000382</td>\n",
       "      <td>-0.000278</td>\n",
       "      <td>-0.000278</td>\n",
       "      <td>-0.000278</td>\n",
       "      <td>-0.000278</td>\n",
       "      <td>-0.000278</td>\n",
       "    </tr>\n",
       "    <tr>\n",
       "      <th>181212</th>\n",
       "      <td>-0.000475</td>\n",
       "      <td>0.668920</td>\n",
       "      <td>-0.000630</td>\n",
       "      <td>0.976184</td>\n",
       "      <td>1.000000</td>\n",
       "      <td>0.211194</td>\n",
       "      <td>-0.000624</td>\n",
       "      <td>0.976184</td>\n",
       "      <td>0.043542</td>\n",
       "      <td>-0.000424</td>\n",
       "      <td>...</td>\n",
       "      <td>-0.000332</td>\n",
       "      <td>-0.000332</td>\n",
       "      <td>-0.000332</td>\n",
       "      <td>-0.000431</td>\n",
       "      <td>-0.000456</td>\n",
       "      <td>-0.000332</td>\n",
       "      <td>-0.000332</td>\n",
       "      <td>-0.000332</td>\n",
       "      <td>-0.000332</td>\n",
       "      <td>-0.000332</td>\n",
       "    </tr>\n",
       "  </tbody>\n",
       "</table>\n",
       "<p>5 rows × 11350 columns</p>\n",
       "</div>"
      ],
      "text/plain": [
       "User ID  5250       76767      86540      144736     181212     229911     \\\n",
       "User ID                                                                     \n",
       "5250      1.000000   0.001565  -0.000756  -0.000398  -0.000475  -0.000738   \n",
       "76767     0.001565   1.000000  -0.001089   0.685340   0.668920   0.338205   \n",
       "86540    -0.000756  -0.001089   1.000000  -0.000528  -0.000630  -0.000992   \n",
       "144736   -0.000398   0.685340  -0.000528   1.000000   0.976184   0.216129   \n",
       "181212   -0.000475   0.668920  -0.000630   0.976184   1.000000   0.211194   \n",
       "\n",
       "User ID  298950     381543     547685     554278       ...      309228590  \\\n",
       "User ID                                                ...                  \n",
       "5250      0.014971  -0.000398  -0.000417  -0.000509    ...       0.000873   \n",
       "76767     0.001733   0.685340   0.036828   0.049974    ...      -0.000641   \n",
       "86540     0.103222  -0.000528  -0.000553   0.001662    ...      -0.000528   \n",
       "144736   -0.000448   1.000000   0.044666  -0.000355    ...      -0.000278   \n",
       "181212   -0.000624   0.976184   0.043542  -0.000424    ...      -0.000332   \n",
       "\n",
       "User ID  309255941  309262440  309265377  309404240  309434439  309554670  \\\n",
       "User ID                                                                     \n",
       "5250     -0.000398   0.004685  -0.000517   0.000288   0.000873  -0.000398   \n",
       "76767    -0.000641  -0.000641  -0.000833  -0.000880  -0.000641  -0.000641   \n",
       "86540    -0.000528  -0.000528  -0.000686  -0.000726  -0.000528  -0.000528   \n",
       "144736   -0.000278  -0.000278  -0.000361  -0.000382  -0.000278  -0.000278   \n",
       "181212   -0.000332  -0.000332  -0.000431  -0.000456  -0.000332  -0.000332   \n",
       "\n",
       "User ID  309626088  309824202  309903146  \n",
       "User ID                                   \n",
       "5250     -0.000398   0.000873   0.000873  \n",
       "76767     0.023980  -0.000641  -0.000641  \n",
       "86540     0.004690  -0.000528  -0.000528  \n",
       "144736   -0.000278  -0.000278  -0.000278  \n",
       "181212   -0.000332  -0.000332  -0.000332  \n",
       "\n",
       "[5 rows x 11350 columns]"
      ]
     },
     "execution_count": 13,
     "metadata": {},
     "output_type": "execute_result"
    }
   ],
   "source": [
    "# checking the df to verify everything worked okay\n",
    "\n",
    "distance_df.head()"
   ]
  },
  {
   "cell_type": "code",
   "execution_count": 14,
   "metadata": {},
   "outputs": [
    {
     "data": {
      "text/plain": [
       "35489574"
      ]
     },
     "execution_count": 14,
     "metadata": {},
     "output_type": "execute_result"
    }
   ],
   "source": [
    "distance_df.columns[678]"
   ]
  },
  {
   "cell_type": "code",
   "execution_count": 15,
   "metadata": {},
   "outputs": [
    {
     "data": {
      "text/plain": [
       "User ID\n",
       "228209477    0.914582\n",
       "275437638    0.914582\n",
       "298446224    0.914582\n",
       "257528104    0.914582\n",
       "224844255    0.914582\n",
       "298516674    0.914582\n",
       "224751217    0.914582\n",
       "301274389    0.914582\n",
       "261857176    0.914582\n",
       "228343275    0.914582\n",
       "263936784    0.914582\n",
       "135012938    0.914161\n",
       "142475478    0.913298\n",
       "64754418     0.891728\n",
       "Name: 5250, dtype: float64"
      ]
     },
     "execution_count": 15,
     "metadata": {},
     "output_type": "execute_result"
    }
   ],
   "source": [
    "# Viewing recommendations for a user\n",
    "\n",
    "query = \"5250\"\n",
    "query = [col for col in distance_df.columns if query in str(col)][0]\n",
    "distance_df[query].sort_values(ascending=False)[1:15]"
   ]
  },
  {
   "cell_type": "code",
   "execution_count": 16,
   "metadata": {},
   "outputs": [
    {
     "data": {
      "text/plain": [
       "User ID\n",
       "63020970     1.0\n",
       "32965833     1.0\n",
       "36714440     1.0\n",
       "19925584     1.0\n",
       "40286953     1.0\n",
       "19594216     1.0\n",
       "25185866     1.0\n",
       "45314861     1.0\n",
       "15382030     1.0\n",
       "181344998    1.0\n",
       "30221587     1.0\n",
       "12673872     1.0\n",
       "74966682     1.0\n",
       "10714039     1.0\n",
       "Name: 25185866, dtype: float64"
      ]
     },
     "execution_count": 16,
     "metadata": {},
     "output_type": "execute_result"
    }
   ],
   "source": [
    "# Viewing recommendations for a user\n",
    "\n",
    "query = \"25185866\"\n",
    "query = [col for col in distance_df.columns if query in str(col)][0]\n",
    "distance_df[query].sort_values(ascending=False)[1:15]"
   ]
  },
  {
   "cell_type": "code",
   "execution_count": 17,
   "metadata": {},
   "outputs": [
    {
     "data": {
      "text/plain": [
       "User ID\n",
       "228209477    0.914582\n",
       "275437638    0.914582\n",
       "298446224    0.914582\n",
       "257528104    0.914582\n",
       "224844255    0.914582\n",
       "298516674    0.914582\n",
       "224751217    0.914582\n",
       "301274389    0.914582\n",
       "261857176    0.914582\n",
       "228343275    0.914582\n",
       "263936784    0.914582\n",
       "135012938    0.914161\n",
       "142475478    0.913298\n",
       "64754418     0.891728\n",
       "Name: 5250, dtype: float64"
      ]
     },
     "execution_count": 17,
     "metadata": {},
     "output_type": "execute_result"
    }
   ],
   "source": [
    "# Viewing recommendations for a user\n",
    "\n",
    "query = \"5250\"\n",
    "query = [col for col in distance_df.columns if query in str(col)][0]\n",
    "distance_df[query].sort_values(ascending=False)[1:15]"
   ]
  },
  {
   "cell_type": "code",
   "execution_count": 18,
   "metadata": {},
   "outputs": [
    {
     "data": {
      "text/plain": [
       "User ID\n",
       "228209477    0.914582\n",
       "275437638    0.914582\n",
       "298446224    0.914582\n",
       "257528104    0.914582\n",
       "224844255    0.914582\n",
       "298516674    0.914582\n",
       "224751217    0.914582\n",
       "301274389    0.914582\n",
       "261857176    0.914582\n",
       "228343275    0.914582\n",
       "263936784    0.914582\n",
       "135012938    0.914161\n",
       "142475478    0.913298\n",
       "64754418     0.891728\n",
       "Name: 5250, dtype: float64"
      ]
     },
     "execution_count": 18,
     "metadata": {},
     "output_type": "execute_result"
    }
   ],
   "source": [
    "# Viewing recommendations for a user\n",
    "\n",
    "query = \"5250\"\n",
    "query = [col for col in distance_df.columns if query in str(col)][0]\n",
    "distance_df[query].sort_values(ascending=False)[1:15]"
   ]
  },
  {
   "cell_type": "code",
   "execution_count": null,
   "metadata": {
    "collapsed": true
   },
   "outputs": [],
   "source": []
  },
  {
   "cell_type": "code",
   "execution_count": null,
   "metadata": {
    "collapsed": true
   },
   "outputs": [],
   "source": []
  }
 ],
 "metadata": {
  "kernelspec": {
   "display_name": "Python [conda env:dsi]",
   "language": "python",
   "name": "conda-env-dsi-py"
  },
  "language_info": {
   "codemirror_mode": {
    "name": "ipython",
    "version": 3
   },
   "file_extension": ".py",
   "mimetype": "text/x-python",
   "name": "python",
   "nbconvert_exporter": "python",
   "pygments_lexer": "ipython3",
   "version": "3.6.5"
  }
 },
 "nbformat": 4,
 "nbformat_minor": 2
}
