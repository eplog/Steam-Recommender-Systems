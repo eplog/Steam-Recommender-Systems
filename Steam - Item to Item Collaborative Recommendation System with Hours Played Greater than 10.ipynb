{
 "cells": [
  {
   "cell_type": "code",
   "execution_count": 1,
   "metadata": {
    "collapsed": true
   },
   "outputs": [],
   "source": [
    "# Packages for data manipulation\n",
    "import pandas as pd\n",
    "import numpy as np\n",
    "\n",
    "# Packages used to create the game recommender \n",
    "from sklearn.metrics.pairwise import pairwise_distances\n",
    "from sklearn.metrics.pairwise import euclidean_distances\n",
    "from sklearn.preprocessing import StandardScaler\n",
    "\n",
    "# Data visualization packages\n",
    "import matplotlib.pyplot as plt \n",
    "import seaborn as sns\n",
    "\n",
    "\n",
    "%matplotlib inline"
   ]
  },
  {
   "cell_type": "code",
   "execution_count": 2,
   "metadata": {
    "collapsed": true
   },
   "outputs": [],
   "source": [
    "# Importing Steam data from 2016 into a pandas dataframe\n",
    "\n",
    "df = pd.read_csv('./steam_data.csv')"
   ]
  },
  {
   "cell_type": "code",
   "execution_count": 3,
   "metadata": {},
   "outputs": [
    {
     "data": {
      "text/html": [
       "<div>\n",
       "<style scoped>\n",
       "    .dataframe tbody tr th:only-of-type {\n",
       "        vertical-align: middle;\n",
       "    }\n",
       "\n",
       "    .dataframe tbody tr th {\n",
       "        vertical-align: top;\n",
       "    }\n",
       "\n",
       "    .dataframe thead th {\n",
       "        text-align: right;\n",
       "    }\n",
       "</style>\n",
       "<table border=\"1\" class=\"dataframe\">\n",
       "  <thead>\n",
       "    <tr style=\"text-align: right;\">\n",
       "      <th></th>\n",
       "      <th>User ID</th>\n",
       "      <th>Game Title</th>\n",
       "      <th>Hours Played</th>\n",
       "    </tr>\n",
       "  </thead>\n",
       "  <tbody>\n",
       "    <tr>\n",
       "      <th>0</th>\n",
       "      <td>151603712</td>\n",
       "      <td>The Elder Scrolls V Skyrim</td>\n",
       "      <td>273.0</td>\n",
       "    </tr>\n",
       "    <tr>\n",
       "      <th>1</th>\n",
       "      <td>151603712</td>\n",
       "      <td>Fallout 4</td>\n",
       "      <td>87.0</td>\n",
       "    </tr>\n",
       "    <tr>\n",
       "      <th>2</th>\n",
       "      <td>151603712</td>\n",
       "      <td>Spore</td>\n",
       "      <td>14.9</td>\n",
       "    </tr>\n",
       "    <tr>\n",
       "      <th>3</th>\n",
       "      <td>151603712</td>\n",
       "      <td>Fallout New Vegas</td>\n",
       "      <td>12.1</td>\n",
       "    </tr>\n",
       "    <tr>\n",
       "      <th>4</th>\n",
       "      <td>151603712</td>\n",
       "      <td>Left 4 Dead 2</td>\n",
       "      <td>8.9</td>\n",
       "    </tr>\n",
       "  </tbody>\n",
       "</table>\n",
       "</div>"
      ],
      "text/plain": [
       "     User ID                  Game Title  Hours Played\n",
       "0  151603712  The Elder Scrolls V Skyrim         273.0\n",
       "1  151603712                   Fallout 4          87.0\n",
       "2  151603712                       Spore          14.9\n",
       "3  151603712           Fallout New Vegas          12.1\n",
       "4  151603712               Left 4 Dead 2           8.9"
      ]
     },
     "execution_count": 3,
     "metadata": {},
     "output_type": "execute_result"
    }
   ],
   "source": [
    "# Inspecting the dataframe\n",
    "\n",
    "df.head()"
   ]
  },
  {
   "cell_type": "code",
   "execution_count": 4,
   "metadata": {},
   "outputs": [
    {
     "data": {
      "text/plain": [
       "(70489, 3)"
      ]
     },
     "execution_count": 4,
     "metadata": {},
     "output_type": "execute_result"
    }
   ],
   "source": [
    "# Checking the shape of the dataframe\n",
    "\n",
    "df.shape"
   ]
  },
  {
   "cell_type": "code",
   "execution_count": 5,
   "metadata": {
    "collapsed": true
   },
   "outputs": [],
   "source": [
    "# Removing entries with less than 10 hours played\n",
    "\n",
    "df = df[df['Hours Played'] > 10]"
   ]
  },
  {
   "cell_type": "code",
   "execution_count": 6,
   "metadata": {
    "collapsed": true
   },
   "outputs": [],
   "source": [
    "# Creating a pivot table \n",
    "\n",
    "pivot = pd.pivot_table(df, index='User ID',columns='Game Title',values='Hours Played')"
   ]
  },
  {
   "cell_type": "code",
   "execution_count": 7,
   "metadata": {
    "collapsed": true
   },
   "outputs": [],
   "source": [
    "# Replacing NaN's with 0's\n",
    "\n",
    "pivot.fillna(0,inplace=True)"
   ]
  },
  {
   "cell_type": "code",
   "execution_count": 8,
   "metadata": {},
   "outputs": [
    {
     "data": {
      "text/plain": [
       "(6411, 1692)"
      ]
     },
     "execution_count": 8,
     "metadata": {},
     "output_type": "execute_result"
    }
   ],
   "source": [
    "# Checking shape of pivot table\n",
    "\n",
    "pivot.shape"
   ]
  },
  {
   "cell_type": "code",
   "execution_count": 9,
   "metadata": {},
   "outputs": [
    {
     "data": {
      "text/plain": [
       "array([[-0.01249025, -0.01763289, -0.01249025, ..., -0.02157166,\n",
       "        -0.01862415, -0.01249025],\n",
       "       [-0.01249025, -0.01763289, -0.01249025, ..., -0.02157166,\n",
       "        -0.01862415, -0.01249025],\n",
       "       [-0.01249025, -0.01763289, -0.01249025, ..., -0.02157166,\n",
       "        -0.01862415, -0.01249025],\n",
       "       ...,\n",
       "       [-0.01249025, -0.01763289, -0.01249025, ..., -0.02157166,\n",
       "        -0.01862415, -0.01249025],\n",
       "       [-0.01249025, -0.01763289, -0.01249025, ..., -0.02157166,\n",
       "        -0.01862415, -0.01249025],\n",
       "       [-0.01249025, -0.01763289, -0.01249025, ..., -0.02157166,\n",
       "        -0.01862415, -0.01249025]])"
      ]
     },
     "execution_count": 9,
     "metadata": {},
     "output_type": "execute_result"
    }
   ],
   "source": [
    "# Scaling my data\n",
    "\n",
    "ss = StandardScaler()\n",
    "ss.fit_transform(pivot)"
   ]
  },
  {
   "cell_type": "code",
   "execution_count": 10,
   "metadata": {
    "collapsed": true
   },
   "outputs": [],
   "source": [
    "# Using pairwise distance to calculate correlation between games. I tried various metrics including: euclidean,hamming, etc.\n",
    "# Spearman's correlation created the most accurate recommendations\n",
    "\n",
    "distances = 1-pairwise_distances(pivot.T, metric='correlation')"
   ]
  },
  {
   "cell_type": "code",
   "execution_count": 11,
   "metadata": {
    "collapsed": true
   },
   "outputs": [],
   "source": [
    "# Putting distances in a df \n",
    "\n",
    "distance_df = pd.DataFrame(distances,index=pivot.columns, columns=pivot.columns)"
   ]
  },
  {
   "cell_type": "code",
   "execution_count": 12,
   "metadata": {},
   "outputs": [
    {
     "data": {
      "text/html": [
       "<div>\n",
       "<style scoped>\n",
       "    .dataframe tbody tr th:only-of-type {\n",
       "        vertical-align: middle;\n",
       "    }\n",
       "\n",
       "    .dataframe tbody tr th {\n",
       "        vertical-align: top;\n",
       "    }\n",
       "\n",
       "    .dataframe thead th {\n",
       "        text-align: right;\n",
       "    }\n",
       "</style>\n",
       "<table border=\"1\" class=\"dataframe\">\n",
       "  <thead>\n",
       "    <tr style=\"text-align: right;\">\n",
       "      <th>Game Title</th>\n",
       "      <th>1... 2... 3... KICK IT! (Drop That Beat Like an Ugly Baby)</th>\n",
       "      <th>100% Orange Juice</th>\n",
       "      <th>12 Labours of Hercules II The Cretan Bull</th>\n",
       "      <th>12 Labours of Hercules III Girl Power</th>\n",
       "      <th>3DMark</th>\n",
       "      <th>3DMark Vantage</th>\n",
       "      <th>4 Elements</th>\n",
       "      <th>7 Days to Die</th>\n",
       "      <th>8BitBoy</th>\n",
       "      <th>A Game of Thrones - Genesis</th>\n",
       "      <th>...</th>\n",
       "      <th>Zombie Army Trilogy</th>\n",
       "      <th>Zombie Panic Source</th>\n",
       "      <th>Zombies Monsters Robots</th>\n",
       "      <th>Zuma's Revenge</th>\n",
       "      <th>iBomber Defense Pacific</th>\n",
       "      <th>liteCam Game 100 FPS Game Capture</th>\n",
       "      <th>realMyst Masterpiece Edition</th>\n",
       "      <th>resident evil 4 / biohazard 4</th>\n",
       "      <th>theHunter</th>\n",
       "      <th>theHunter Primal</th>\n",
       "    </tr>\n",
       "    <tr>\n",
       "      <th>Game Title</th>\n",
       "      <th></th>\n",
       "      <th></th>\n",
       "      <th></th>\n",
       "      <th></th>\n",
       "      <th></th>\n",
       "      <th></th>\n",
       "      <th></th>\n",
       "      <th></th>\n",
       "      <th></th>\n",
       "      <th></th>\n",
       "      <th></th>\n",
       "      <th></th>\n",
       "      <th></th>\n",
       "      <th></th>\n",
       "      <th></th>\n",
       "      <th></th>\n",
       "      <th></th>\n",
       "      <th></th>\n",
       "      <th></th>\n",
       "      <th></th>\n",
       "      <th></th>\n",
       "    </tr>\n",
       "  </thead>\n",
       "  <tbody>\n",
       "    <tr>\n",
       "      <th>1... 2... 3... KICK IT! (Drop That Beat Like an Ugly Baby)</th>\n",
       "      <td>1.00000</td>\n",
       "      <td>-0.00022</td>\n",
       "      <td>-0.000156</td>\n",
       "      <td>-0.000156</td>\n",
       "      <td>-0.000178</td>\n",
       "      <td>-0.000156</td>\n",
       "      <td>-0.000194</td>\n",
       "      <td>-0.000612</td>\n",
       "      <td>-0.000156</td>\n",
       "      <td>-0.000216</td>\n",
       "      <td>...</td>\n",
       "      <td>-0.000156</td>\n",
       "      <td>-0.000293</td>\n",
       "      <td>-0.000314</td>\n",
       "      <td>-0.000156</td>\n",
       "      <td>-0.000156</td>\n",
       "      <td>-0.000156</td>\n",
       "      <td>-0.000156</td>\n",
       "      <td>-0.000269</td>\n",
       "      <td>-0.000233</td>\n",
       "      <td>-0.000156</td>\n",
       "    </tr>\n",
       "    <tr>\n",
       "      <th>100% Orange Juice</th>\n",
       "      <td>-0.00022</td>\n",
       "      <td>1.00000</td>\n",
       "      <td>-0.000220</td>\n",
       "      <td>-0.000220</td>\n",
       "      <td>-0.000251</td>\n",
       "      <td>-0.000220</td>\n",
       "      <td>-0.000274</td>\n",
       "      <td>-0.000864</td>\n",
       "      <td>-0.000220</td>\n",
       "      <td>-0.000305</td>\n",
       "      <td>...</td>\n",
       "      <td>-0.000220</td>\n",
       "      <td>-0.000413</td>\n",
       "      <td>-0.000443</td>\n",
       "      <td>-0.000220</td>\n",
       "      <td>-0.000220</td>\n",
       "      <td>-0.000220</td>\n",
       "      <td>-0.000220</td>\n",
       "      <td>-0.000380</td>\n",
       "      <td>-0.000328</td>\n",
       "      <td>-0.000220</td>\n",
       "    </tr>\n",
       "  </tbody>\n",
       "</table>\n",
       "<p>2 rows × 1692 columns</p>\n",
       "</div>"
      ],
      "text/plain": [
       "Game Title                                          1... 2... 3... KICK IT! (Drop That Beat Like an Ugly Baby)  \\\n",
       "Game Title                                                                                                       \n",
       "1... 2... 3... KICK IT! (Drop That Beat Like an...                                            1.00000            \n",
       "100% Orange Juice                                                                            -0.00022            \n",
       "\n",
       "Game Title                                          100% Orange Juice  \\\n",
       "Game Title                                                              \n",
       "1... 2... 3... KICK IT! (Drop That Beat Like an...           -0.00022   \n",
       "100% Orange Juice                                             1.00000   \n",
       "\n",
       "Game Title                                          12 Labours of Hercules II The Cretan Bull  \\\n",
       "Game Title                                                                                      \n",
       "1... 2... 3... KICK IT! (Drop That Beat Like an...                                  -0.000156   \n",
       "100% Orange Juice                                                                   -0.000220   \n",
       "\n",
       "Game Title                                          12 Labours of Hercules III Girl Power  \\\n",
       "Game Title                                                                                  \n",
       "1... 2... 3... KICK IT! (Drop That Beat Like an...                              -0.000156   \n",
       "100% Orange Juice                                                               -0.000220   \n",
       "\n",
       "Game Title                                            3DMark  3DMark Vantage  \\\n",
       "Game Title                                                                     \n",
       "1... 2... 3... KICK IT! (Drop That Beat Like an... -0.000178       -0.000156   \n",
       "100% Orange Juice                                  -0.000251       -0.000220   \n",
       "\n",
       "Game Title                                          4 Elements  7 Days to Die  \\\n",
       "Game Title                                                                      \n",
       "1... 2... 3... KICK IT! (Drop That Beat Like an...   -0.000194      -0.000612   \n",
       "100% Orange Juice                                    -0.000274      -0.000864   \n",
       "\n",
       "Game Title                                           8BitBoy  \\\n",
       "Game Title                                                     \n",
       "1... 2... 3... KICK IT! (Drop That Beat Like an... -0.000156   \n",
       "100% Orange Juice                                  -0.000220   \n",
       "\n",
       "Game Title                                          A Game of Thrones - Genesis  \\\n",
       "Game Title                                                                        \n",
       "1... 2... 3... KICK IT! (Drop That Beat Like an...                    -0.000216   \n",
       "100% Orange Juice                                                     -0.000305   \n",
       "\n",
       "Game Title                                                ...         \\\n",
       "Game Title                                                ...          \n",
       "1... 2... 3... KICK IT! (Drop That Beat Like an...        ...          \n",
       "100% Orange Juice                                         ...          \n",
       "\n",
       "Game Title                                          Zombie Army Trilogy  \\\n",
       "Game Title                                                                \n",
       "1... 2... 3... KICK IT! (Drop That Beat Like an...            -0.000156   \n",
       "100% Orange Juice                                             -0.000220   \n",
       "\n",
       "Game Title                                          Zombie Panic Source  \\\n",
       "Game Title                                                                \n",
       "1... 2... 3... KICK IT! (Drop That Beat Like an...            -0.000293   \n",
       "100% Orange Juice                                             -0.000413   \n",
       "\n",
       "Game Title                                          Zombies Monsters Robots  \\\n",
       "Game Title                                                                    \n",
       "1... 2... 3... KICK IT! (Drop That Beat Like an...                -0.000314   \n",
       "100% Orange Juice                                                 -0.000443   \n",
       "\n",
       "Game Title                                          Zuma's Revenge  \\\n",
       "Game Title                                                           \n",
       "1... 2... 3... KICK IT! (Drop That Beat Like an...       -0.000156   \n",
       "100% Orange Juice                                        -0.000220   \n",
       "\n",
       "Game Title                                          iBomber Defense Pacific  \\\n",
       "Game Title                                                                    \n",
       "1... 2... 3... KICK IT! (Drop That Beat Like an...                -0.000156   \n",
       "100% Orange Juice                                                 -0.000220   \n",
       "\n",
       "Game Title                                          liteCam Game 100 FPS Game Capture  \\\n",
       "Game Title                                                                              \n",
       "1... 2... 3... KICK IT! (Drop That Beat Like an...                          -0.000156   \n",
       "100% Orange Juice                                                           -0.000220   \n",
       "\n",
       "Game Title                                          realMyst Masterpiece Edition  \\\n",
       "Game Title                                                                         \n",
       "1... 2... 3... KICK IT! (Drop That Beat Like an...                     -0.000156   \n",
       "100% Orange Juice                                                      -0.000220   \n",
       "\n",
       "Game Title                                          resident evil 4 / biohazard 4  \\\n",
       "Game Title                                                                          \n",
       "1... 2... 3... KICK IT! (Drop That Beat Like an...                      -0.000269   \n",
       "100% Orange Juice                                                       -0.000380   \n",
       "\n",
       "Game Title                                          theHunter  \\\n",
       "Game Title                                                      \n",
       "1... 2... 3... KICK IT! (Drop That Beat Like an...  -0.000233   \n",
       "100% Orange Juice                                   -0.000328   \n",
       "\n",
       "Game Title                                          theHunter Primal  \n",
       "Game Title                                                            \n",
       "1... 2... 3... KICK IT! (Drop That Beat Like an...         -0.000156  \n",
       "100% Orange Juice                                          -0.000220  \n",
       "\n",
       "[2 rows x 1692 columns]"
      ]
     },
     "execution_count": 12,
     "metadata": {},
     "output_type": "execute_result"
    }
   ],
   "source": [
    "# Checking the df to verify everything worked okay\n",
    "\n",
    "distance_df.head(2)"
   ]
  },
  {
   "cell_type": "code",
   "execution_count": 13,
   "metadata": {},
   "outputs": [
    {
     "data": {
      "text/plain": [
       "Game Title\n",
       "Unreal Gold                                              0.637160\n",
       "Painkiller Gold Edition                                  0.637160\n",
       "Commandos 2 Men of Courage                               0.494411\n",
       "Unreal Tournament 2004                                   0.405676\n",
       "Red Faction Guerrilla Steam Edition                      0.390287\n",
       "Sid Meier's Civilization IV                              0.389783\n",
       "The Elder Scrolls IV Oblivion                            0.379748\n",
       "Hack 'n' Slash                                           0.304078\n",
       "Dungeons & Dragons Online                                0.270900\n",
       "GALAK-Z                                                  0.266011\n",
       "The Maw                                                  0.266011\n",
       "ToCA Race Driver 3                                       0.266011\n",
       "Child of Light                                           0.251926\n",
       "Magic The Gathering - Duels of the Planeswalkers 2013    0.242364\n",
       "Name: Fallout 3, dtype: float64"
      ]
     },
     "execution_count": 13,
     "metadata": {},
     "output_type": "execute_result"
    }
   ],
   "source": [
    "# Viewing recommendations for a game\n",
    "\n",
    "query = \"Fallout 3\"\n",
    "query = [col for col in distance_df.columns if query in col][0]\n",
    "distance_df[query].sort_values(ascending=False)[1:15]"
   ]
  },
  {
   "cell_type": "code",
   "execution_count": 14,
   "metadata": {},
   "outputs": [
    {
     "data": {
      "text/plain": [
       "Game Title\n",
       "Divinity II - Ego Draconis                 0.351707\n",
       "Bound By Flame                             0.351707\n",
       "Dawn of Discovery                          0.351707\n",
       "Galactic Civilizations III                 0.319351\n",
       "Elite Dangerous                            0.298879\n",
       "DOOM 3 Resurrection of Evil                0.270005\n",
       "Blitzkrieg 2 Anthology                     0.243070\n",
       "Tom Clancy's Ghost Recon Future Soldier    0.223200\n",
       "Hitman Blood Money                         0.222424\n",
       "Total War ATTILA                           0.211427\n",
       "Earth 2160                                 0.205234\n",
       "Lords Of The Fallen                        0.203774\n",
       "Fallout Tactics                            0.202672\n",
       "RaiderZ                                    0.191444\n",
       "Name: Path of Exile, dtype: float64"
      ]
     },
     "execution_count": 14,
     "metadata": {},
     "output_type": "execute_result"
    }
   ],
   "source": [
    "# Viewing recommendations for a game\n",
    "\n",
    "query = \"Path of Exile\"\n",
    "query = [col for col in distance_df.columns if query in col][0]\n",
    "distance_df[query].sort_values(ascending=False)[1:15]"
   ]
  },
  {
   "cell_type": "code",
   "execution_count": 15,
   "metadata": {},
   "outputs": [
    {
     "data": {
      "text/plain": [
       "Game Title\n",
       "Company of Heroes Opposing Fronts             0.108813\n",
       "Dark Messiah of Might & Magic Multi-Player    0.098358\n",
       "District 187                                  0.093673\n",
       "Titan Quest                                   0.085531\n",
       "I Am Alive                                    0.074279\n",
       "Alan Wake                                     0.070576\n",
       "Arctic Combat                                 0.068095\n",
       "Serious Sam 2                                 0.066939\n",
       "Warhammer 40,000 Armageddon                   0.063706\n",
       "Space Rangers HD A War Apart                  0.062708\n",
       "Darksiders                                    0.060948\n",
       "Counter-Strike Global Offensive               0.060261\n",
       "McPixel                                       0.058563\n",
       "Nosgoth                                       0.058436\n",
       "Name: Dota 2, dtype: float64"
      ]
     },
     "execution_count": 15,
     "metadata": {},
     "output_type": "execute_result"
    }
   ],
   "source": [
    "# Viewing recommendations for a game\n",
    "\n",
    "query = \"Dota 2\"\n",
    "query = [col for col in distance_df.columns if query in col][0]\n",
    "distance_df[query].sort_values(ascending=False)[1:15]"
   ]
  },
  {
   "cell_type": "code",
   "execution_count": 16,
   "metadata": {},
   "outputs": [
    {
     "data": {
      "text/plain": [
       "Game Title\n",
       "Counter-Strike Source                       0.236037\n",
       "Call of Duty Black Ops - Multiplayer OSX    0.234877\n",
       "Pro Cycling Manager 2015                    0.224024\n",
       "TrackMania United                           0.211513\n",
       "Airline Tycoon 2                            0.211513\n",
       "Pro Cycling Manager 2013                    0.197069\n",
       "KickBeat Steam Edition                      0.182927\n",
       "Rust                                        0.160731\n",
       "Call of Duty Black Ops - OSX                0.153766\n",
       "Nidhogg                                     0.141361\n",
       "Two Worlds II                               0.120660\n",
       "Garry's Mod                                 0.110461\n",
       "GRID 2                                      0.107959\n",
       "DayZ                                        0.107256\n",
       "Name: Counter-Strike Global Offensive, dtype: float64"
      ]
     },
     "execution_count": 16,
     "metadata": {},
     "output_type": "execute_result"
    }
   ],
   "source": [
    "# Viewing recommendations for a game\n",
    "\n",
    "query = \"Counter-Strike Global Offensive\"\n",
    "query = [col for col in distance_df.columns if query in col][0]\n",
    "distance_df[query].sort_values(ascending=False)[1:15]"
   ]
  },
  {
   "cell_type": "code",
   "execution_count": 17,
   "metadata": {},
   "outputs": [
    {
     "data": {
      "text/plain": [
       "Game Title\n",
       "Glare                           0.713678\n",
       "Escape Goat                     0.713678\n",
       "Millie                          0.713678\n",
       "Rooms The Unsolvable Puzzle     0.713678\n",
       "Bard's Gold                     0.713678\n",
       "Canyon Capers                   0.713678\n",
       "Super Panda Adventures          0.713678\n",
       "Scarygirl                       0.713678\n",
       "Freedom Fall                    0.713678\n",
       "Zack Zero                       0.713678\n",
       "Breezeblox                      0.713678\n",
       "The Cave                        0.701772\n",
       "Cave Story+                     0.700670\n",
       "Giana Sisters Twisted Dreams    0.620576\n",
       "Name: Shovel Knight, dtype: float64"
      ]
     },
     "execution_count": 17,
     "metadata": {},
     "output_type": "execute_result"
    }
   ],
   "source": [
    "# Viewing recommendations for a game\n",
    "\n",
    "query = \"Shovel Knight\"\n",
    "query = [col for col in distance_df.columns if query in col][0]\n",
    "distance_df[query].sort_values(ascending=False)[1:15]"
   ]
  },
  {
   "cell_type": "code",
   "execution_count": null,
   "metadata": {
    "collapsed": true
   },
   "outputs": [],
   "source": []
  }
 ],
 "metadata": {
  "kernelspec": {
   "display_name": "Python [conda env:dsi]",
   "language": "python",
   "name": "conda-env-dsi-py"
  },
  "language_info": {
   "codemirror_mode": {
    "name": "ipython",
    "version": 3
   },
   "file_extension": ".py",
   "mimetype": "text/x-python",
   "name": "python",
   "nbconvert_exporter": "python",
   "pygments_lexer": "ipython3",
   "version": "3.6.5"
  }
 },
 "nbformat": 4,
 "nbformat_minor": 2
}
