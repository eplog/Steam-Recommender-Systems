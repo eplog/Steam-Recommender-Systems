{
 "cells": [
  {
   "cell_type": "code",
   "execution_count": 1,
   "metadata": {
    "collapsed": true
   },
   "outputs": [],
   "source": [
    "# Packages for data manipulation\n",
    "import pandas as pd\n",
    "import numpy as np\n",
    "\n",
    "# Packages used to create the game recommender \n",
    "from sklearn.metrics.pairwise import pairwise_distances\n",
    "from sklearn.metrics.pairwise import euclidean_distances\n",
    "from sklearn.preprocessing import StandardScaler\n",
    "\n",
    "# Data visualization packages\n",
    "import matplotlib.pyplot as plt \n",
    "import seaborn as sns\n",
    "\n",
    "\n",
    "%matplotlib inline"
   ]
  },
  {
   "cell_type": "code",
   "execution_count": 2,
   "metadata": {
    "collapsed": true
   },
   "outputs": [],
   "source": [
    "# Importing Steam data from 2016 into a pandas dataframe\n",
    "\n",
    "df = pd.read_csv('./steam_data.csv')"
   ]
  },
  {
   "cell_type": "code",
   "execution_count": 3,
   "metadata": {},
   "outputs": [
    {
     "data": {
      "text/html": [
       "<div>\n",
       "<style scoped>\n",
       "    .dataframe tbody tr th:only-of-type {\n",
       "        vertical-align: middle;\n",
       "    }\n",
       "\n",
       "    .dataframe tbody tr th {\n",
       "        vertical-align: top;\n",
       "    }\n",
       "\n",
       "    .dataframe thead th {\n",
       "        text-align: right;\n",
       "    }\n",
       "</style>\n",
       "<table border=\"1\" class=\"dataframe\">\n",
       "  <thead>\n",
       "    <tr style=\"text-align: right;\">\n",
       "      <th></th>\n",
       "      <th>User ID</th>\n",
       "      <th>Game Title</th>\n",
       "      <th>Hours Played</th>\n",
       "    </tr>\n",
       "  </thead>\n",
       "  <tbody>\n",
       "    <tr>\n",
       "      <th>0</th>\n",
       "      <td>151603712</td>\n",
       "      <td>The Elder Scrolls V Skyrim</td>\n",
       "      <td>273.0</td>\n",
       "    </tr>\n",
       "    <tr>\n",
       "      <th>1</th>\n",
       "      <td>151603712</td>\n",
       "      <td>Fallout 4</td>\n",
       "      <td>87.0</td>\n",
       "    </tr>\n",
       "    <tr>\n",
       "      <th>2</th>\n",
       "      <td>151603712</td>\n",
       "      <td>Spore</td>\n",
       "      <td>14.9</td>\n",
       "    </tr>\n",
       "    <tr>\n",
       "      <th>3</th>\n",
       "      <td>151603712</td>\n",
       "      <td>Fallout New Vegas</td>\n",
       "      <td>12.1</td>\n",
       "    </tr>\n",
       "    <tr>\n",
       "      <th>4</th>\n",
       "      <td>151603712</td>\n",
       "      <td>Left 4 Dead 2</td>\n",
       "      <td>8.9</td>\n",
       "    </tr>\n",
       "  </tbody>\n",
       "</table>\n",
       "</div>"
      ],
      "text/plain": [
       "     User ID                  Game Title  Hours Played\n",
       "0  151603712  The Elder Scrolls V Skyrim         273.0\n",
       "1  151603712                   Fallout 4          87.0\n",
       "2  151603712                       Spore          14.9\n",
       "3  151603712           Fallout New Vegas          12.1\n",
       "4  151603712               Left 4 Dead 2           8.9"
      ]
     },
     "execution_count": 3,
     "metadata": {},
     "output_type": "execute_result"
    }
   ],
   "source": [
    "# Inspecting the dataframe\n",
    "\n",
    "df.head()"
   ]
  },
  {
   "cell_type": "code",
   "execution_count": 4,
   "metadata": {},
   "outputs": [
    {
     "data": {
      "text/plain": [
       "(70489, 3)"
      ]
     },
     "execution_count": 4,
     "metadata": {},
     "output_type": "execute_result"
    }
   ],
   "source": [
    "# Checking the shape of the dataframe\n",
    "\n",
    "df.shape"
   ]
  },
  {
   "cell_type": "code",
   "execution_count": 5,
   "metadata": {
    "collapsed": true
   },
   "outputs": [],
   "source": [
    "# Removing entries with less than 40 hours played \n",
    "\n",
    "df = df[df['Hours Played'] > 40]"
   ]
  },
  {
   "cell_type": "code",
   "execution_count": 6,
   "metadata": {
    "collapsed": true
   },
   "outputs": [],
   "source": [
    "# Creating a pivot table \n",
    "\n",
    "pivot = pd.pivot_table(df, index='User ID',columns='Game Title',values='Hours Played')"
   ]
  },
  {
   "cell_type": "code",
   "execution_count": 7,
   "metadata": {
    "collapsed": true
   },
   "outputs": [],
   "source": [
    "# Replacing NaN's with 0's\n",
    "\n",
    "pivot.fillna(0,inplace=True)"
   ]
  },
  {
   "cell_type": "code",
   "execution_count": 8,
   "metadata": {},
   "outputs": [
    {
     "data": {
      "text/plain": [
       "(4410, 875)"
      ]
     },
     "execution_count": 8,
     "metadata": {},
     "output_type": "execute_result"
    }
   ],
   "source": [
    "# Checking shape of pivot table\n",
    "\n",
    "pivot.shape"
   ]
  },
  {
   "cell_type": "code",
   "execution_count": 9,
   "metadata": {},
   "outputs": [
    {
     "data": {
      "text/plain": [
       "array([[-0.01506017, -0.0501587 , -0.01506017, ..., -0.01506017,\n",
       "        -0.01506017, -0.01506017],\n",
       "       [-0.01506017, -0.0501587 , -0.01506017, ..., -0.01506017,\n",
       "        -0.01506017, -0.01506017],\n",
       "       [-0.01506017, -0.0501587 , -0.01506017, ..., -0.01506017,\n",
       "        -0.01506017, -0.01506017],\n",
       "       ...,\n",
       "       [-0.01506017, -0.0501587 , -0.01506017, ..., -0.01506017,\n",
       "        -0.01506017, -0.01506017],\n",
       "       [-0.01506017, -0.0501587 , -0.01506017, ..., -0.01506017,\n",
       "        -0.01506017, -0.01506017],\n",
       "       [-0.01506017, -0.0501587 , -0.01506017, ..., -0.01506017,\n",
       "        -0.01506017, -0.01506017]])"
      ]
     },
     "execution_count": 9,
     "metadata": {},
     "output_type": "execute_result"
    }
   ],
   "source": [
    "# Scaling my data\n",
    "\n",
    "ss = StandardScaler()\n",
    "ss.fit_transform(pivot)"
   ]
  },
  {
   "cell_type": "code",
   "execution_count": 10,
   "metadata": {
    "collapsed": true
   },
   "outputs": [],
   "source": [
    "# Using pairwise distance to calculate correlation between games. I tried various metrics including: euclidean,hamming, etc.\n",
    "# Spearman's correlation created the most accurate recommendations\n",
    "\n",
    "distances = 1-pairwise_distances(pivot.T, metric='correlation')"
   ]
  },
  {
   "cell_type": "code",
   "execution_count": 11,
   "metadata": {
    "collapsed": true
   },
   "outputs": [],
   "source": [
    "# Putting distances in a df \n",
    "\n",
    "distance_df = pd.DataFrame(distances,index=pivot.columns, columns=pivot.columns)"
   ]
  },
  {
   "cell_type": "code",
   "execution_count": 12,
   "metadata": {},
   "outputs": [
    {
     "data": {
      "text/html": [
       "<div>\n",
       "<style scoped>\n",
       "    .dataframe tbody tr th:only-of-type {\n",
       "        vertical-align: middle;\n",
       "    }\n",
       "\n",
       "    .dataframe tbody tr th {\n",
       "        vertical-align: top;\n",
       "    }\n",
       "\n",
       "    .dataframe thead th {\n",
       "        text-align: right;\n",
       "    }\n",
       "</style>\n",
       "<table border=\"1\" class=\"dataframe\">\n",
       "  <thead>\n",
       "    <tr style=\"text-align: right;\">\n",
       "      <th>Game Title</th>\n",
       "      <th>3DMark</th>\n",
       "      <th>7 Days to Die</th>\n",
       "      <th>A Game of Thrones - Genesis</th>\n",
       "      <th>APB Reloaded</th>\n",
       "      <th>ARK Survival Evolved</th>\n",
       "      <th>Ace of Spades</th>\n",
       "      <th>Action! - Gameplay Recording and Streaming</th>\n",
       "      <th>AdVenture Capitalist</th>\n",
       "      <th>Aftermath</th>\n",
       "      <th>Agarest Generations of War</th>\n",
       "      <th>...</th>\n",
       "      <th>X3 Terran Conflict</th>\n",
       "      <th>XCOM Enemy Unknown</th>\n",
       "      <th>Xenonauts</th>\n",
       "      <th>You Need A Budget 4 (YNAB)</th>\n",
       "      <th>Zombie Panic Source</th>\n",
       "      <th>Zombies Monsters Robots</th>\n",
       "      <th>Zuma's Revenge</th>\n",
       "      <th>liteCam Game 100 FPS Game Capture</th>\n",
       "      <th>theHunter</th>\n",
       "      <th>theHunter Primal</th>\n",
       "    </tr>\n",
       "    <tr>\n",
       "      <th>Game Title</th>\n",
       "      <th></th>\n",
       "      <th></th>\n",
       "      <th></th>\n",
       "      <th></th>\n",
       "      <th></th>\n",
       "      <th></th>\n",
       "      <th></th>\n",
       "      <th></th>\n",
       "      <th></th>\n",
       "      <th></th>\n",
       "      <th></th>\n",
       "      <th></th>\n",
       "      <th></th>\n",
       "      <th></th>\n",
       "      <th></th>\n",
       "      <th></th>\n",
       "      <th></th>\n",
       "      <th></th>\n",
       "      <th></th>\n",
       "      <th></th>\n",
       "      <th></th>\n",
       "    </tr>\n",
       "  </thead>\n",
       "  <tbody>\n",
       "    <tr>\n",
       "      <th>3DMark</th>\n",
       "      <td>1.000000</td>\n",
       "      <td>-0.000755</td>\n",
       "      <td>-0.000227</td>\n",
       "      <td>-0.000392</td>\n",
       "      <td>-0.001419</td>\n",
       "      <td>-0.000317</td>\n",
       "      <td>-0.000373</td>\n",
       "      <td>-0.000844</td>\n",
       "      <td>-0.000317</td>\n",
       "      <td>-0.000227</td>\n",
       "      <td>...</td>\n",
       "      <td>-0.000227</td>\n",
       "      <td>-0.001079</td>\n",
       "      <td>-0.000227</td>\n",
       "      <td>-0.000227</td>\n",
       "      <td>-0.000409</td>\n",
       "      <td>-0.000227</td>\n",
       "      <td>-0.000227</td>\n",
       "      <td>-0.000227</td>\n",
       "      <td>-0.000227</td>\n",
       "      <td>-0.000227</td>\n",
       "    </tr>\n",
       "    <tr>\n",
       "      <th>7 Days to Die</th>\n",
       "      <td>-0.000755</td>\n",
       "      <td>1.000000</td>\n",
       "      <td>-0.000755</td>\n",
       "      <td>-0.001304</td>\n",
       "      <td>0.069431</td>\n",
       "      <td>-0.001057</td>\n",
       "      <td>0.020927</td>\n",
       "      <td>-0.002811</td>\n",
       "      <td>-0.001056</td>\n",
       "      <td>-0.000755</td>\n",
       "      <td>...</td>\n",
       "      <td>-0.000755</td>\n",
       "      <td>0.007593</td>\n",
       "      <td>-0.000755</td>\n",
       "      <td>-0.000755</td>\n",
       "      <td>-0.001361</td>\n",
       "      <td>-0.000755</td>\n",
       "      <td>-0.000755</td>\n",
       "      <td>-0.000755</td>\n",
       "      <td>-0.000755</td>\n",
       "      <td>-0.000755</td>\n",
       "    </tr>\n",
       "  </tbody>\n",
       "</table>\n",
       "<p>2 rows × 875 columns</p>\n",
       "</div>"
      ],
      "text/plain": [
       "Game Title       3DMark  7 Days to Die  A Game of Thrones - Genesis  \\\n",
       "Game Title                                                            \n",
       "3DMark         1.000000      -0.000755                    -0.000227   \n",
       "7 Days to Die -0.000755       1.000000                    -0.000755   \n",
       "\n",
       "Game Title     APB Reloaded  ARK Survival Evolved  Ace of Spades  \\\n",
       "Game Title                                                         \n",
       "3DMark            -0.000392             -0.001419      -0.000317   \n",
       "7 Days to Die     -0.001304              0.069431      -0.001057   \n",
       "\n",
       "Game Title     Action! - Gameplay Recording and Streaming  \\\n",
       "Game Title                                                  \n",
       "3DMark                                          -0.000373   \n",
       "7 Days to Die                                    0.020927   \n",
       "\n",
       "Game Title     AdVenture Capitalist  Aftermath  Agarest Generations of War  \\\n",
       "Game Title                                                                   \n",
       "3DMark                    -0.000844  -0.000317                   -0.000227   \n",
       "7 Days to Die             -0.002811  -0.001056                   -0.000755   \n",
       "\n",
       "Game Title           ...         X3 Terran Conflict  XCOM Enemy Unknown  \\\n",
       "Game Title           ...                                                  \n",
       "3DMark               ...                  -0.000227           -0.001079   \n",
       "7 Days to Die        ...                  -0.000755            0.007593   \n",
       "\n",
       "Game Title     Xenonauts  You Need A Budget 4 (YNAB)  Zombie Panic Source  \\\n",
       "Game Title                                                                  \n",
       "3DMark         -0.000227                   -0.000227            -0.000409   \n",
       "7 Days to Die  -0.000755                   -0.000755            -0.001361   \n",
       "\n",
       "Game Title     Zombies Monsters Robots  Zuma's Revenge  \\\n",
       "Game Title                                               \n",
       "3DMark                       -0.000227       -0.000227   \n",
       "7 Days to Die                -0.000755       -0.000755   \n",
       "\n",
       "Game Title     liteCam Game 100 FPS Game Capture  theHunter  theHunter Primal  \n",
       "Game Title                                                                     \n",
       "3DMark                                 -0.000227  -0.000227         -0.000227  \n",
       "7 Days to Die                          -0.000755  -0.000755         -0.000755  \n",
       "\n",
       "[2 rows x 875 columns]"
      ]
     },
     "execution_count": 12,
     "metadata": {},
     "output_type": "execute_result"
    }
   ],
   "source": [
    "# Checking the df to verify everything worked okay\n",
    "\n",
    "distance_df.head(2)"
   ]
  },
  {
   "cell_type": "code",
   "execution_count": 13,
   "metadata": {},
   "outputs": [
    {
     "data": {
      "text/plain": [
       "Game Title\n",
       "Red Faction Guerrilla Steam Edition                      0.485015\n",
       "Sid Meier's Civilization IV                              0.435344\n",
       "The Elder Scrolls IV Oblivion                            0.406692\n",
       "Dungeons & Dragons Online                                0.292175\n",
       "Magic The Gathering - Duels of the Planeswalkers 2013    0.278948\n",
       "The Last Remnant                                         0.241324\n",
       "The Elder Scrolls III Morrowind                          0.209115\n",
       "Marvel Puzzle Quest                                      0.199949\n",
       "Gems of War                                              0.192506\n",
       "Kingdoms of Amalur Reckoning                             0.187719\n",
       "Magic The Gathering  Duels of the Planeswalkers 2012     0.170760\n",
       "Fallout New Vegas                                        0.139285\n",
       "FTL Faster Than Light                                    0.127336\n",
       "The Talos Principle                                      0.118075\n",
       "Name: Fallout 3, dtype: float64"
      ]
     },
     "execution_count": 13,
     "metadata": {},
     "output_type": "execute_result"
    }
   ],
   "source": [
    "# Viewing recommendations for a game\n",
    "\n",
    "query = \"Fallout 3\"\n",
    "query = [col for col in distance_df.columns if query in col][0]\n",
    "distance_df[query].sort_values(ascending=False)[1:15]"
   ]
  },
  {
   "cell_type": "code",
   "execution_count": 14,
   "metadata": {},
   "outputs": [
    {
     "data": {
      "text/plain": [
       "Game Title\n",
       "Bound By Flame                                        0.352334\n",
       "Galactic Civilizations III                            0.321694\n",
       "Elite Dangerous                                       0.295133\n",
       "Tom Clancy's Ghost Recon Future Soldier               0.267285\n",
       "Total War ATTILA                                      0.213423\n",
       "Lords Of The Fallen                                   0.174506\n",
       "NOBUNAGA'S AMBITION Sphere of Influence               0.164196\n",
       "The Walking Dead Season Two                           0.145975\n",
       "The Incredible Adventures of Van Helsing Final Cut    0.143530\n",
       "Demigod                                               0.143530\n",
       "Impire                                                0.143530\n",
       "Hitman Absolution                                     0.135397\n",
       "Warframe                                              0.132698\n",
       "Middle-earth Shadow of Mordor                         0.129922\n",
       "Name: Path of Exile, dtype: float64"
      ]
     },
     "execution_count": 14,
     "metadata": {},
     "output_type": "execute_result"
    }
   ],
   "source": [
    "# Viewing recommendations for a game\n",
    "\n",
    "query = \"Path of Exile\"\n",
    "query = [col for col in distance_df.columns if query in col][0]\n",
    "distance_df[query].sort_values(ascending=False)[1:15]"
   ]
  },
  {
   "cell_type": "code",
   "execution_count": 15,
   "metadata": {},
   "outputs": [
    {
     "data": {
      "text/plain": [
       "Game Title\n",
       "Company of Heroes Opposing Fronts             0.111106\n",
       "Dark Messiah of Might & Magic Multi-Player    0.098859\n",
       "I Am Alive                                    0.074222\n",
       "Everlasting Summer                            0.073742\n",
       "Alan Wake                                     0.072387\n",
       "Warhammer End Times - Vermintide              0.068247\n",
       "Darksiders                                    0.067045\n",
       "Dungeon Defenders II                          0.065169\n",
       "Nuclear Dawn                                  0.063248\n",
       "Nosgoth                                       0.057031\n",
       "Company of Heroes                             0.053482\n",
       "Burnout Paradise The Ultimate Box             0.048152\n",
       "The Walking Dead                              0.042741\n",
       "Castle Crashers                               0.039353\n",
       "Name: Dota 2, dtype: float64"
      ]
     },
     "execution_count": 15,
     "metadata": {},
     "output_type": "execute_result"
    }
   ],
   "source": [
    "# Viewing recommendations for a game\n",
    "\n",
    "query = \"Dota 2\"\n",
    "query = [col for col in distance_df.columns if query in col][0]\n",
    "distance_df[query].sort_values(ascending=False)[1:15]"
   ]
  },
  {
   "cell_type": "code",
   "execution_count": 16,
   "metadata": {},
   "outputs": [
    {
     "data": {
      "text/plain": [
       "Game Title\n",
       "Call of Duty Black Ops - Multiplayer OSX    0.236364\n",
       "Counter-Strike Source                       0.225857\n",
       "TrackMania United                           0.212724\n",
       "Pro Cycling Manager 2015                    0.212724\n",
       "Pro Cycling Manager 2013                    0.197576\n",
       "Rust                                        0.142166\n",
       "Two Worlds II                               0.127124\n",
       "GRID 2                                      0.108669\n",
       "DayZ                                        0.095763\n",
       "Call of Duty Advanced Warfare               0.095723\n",
       "AdVenture Capitalist                        0.095254\n",
       "Garry's Mod                                 0.095116\n",
       "Counter-Strike                              0.080612\n",
       "H1Z1                                        0.080103\n",
       "Name: Counter-Strike Global Offensive, dtype: float64"
      ]
     },
     "execution_count": 16,
     "metadata": {},
     "output_type": "execute_result"
    }
   ],
   "source": [
    "# Viewing recommendations for a game\n",
    "\n",
    "query = \"Counter-Strike Global Offensive\"\n",
    "query = [col for col in distance_df.columns if query in col][0]\n",
    "distance_df[query].sort_values(ascending=False)[1:15]"
   ]
  }
 ],
 "metadata": {
  "kernelspec": {
   "display_name": "Python [conda env:dsi]",
   "language": "python",
   "name": "conda-env-dsi-py"
  },
  "language_info": {
   "codemirror_mode": {
    "name": "ipython",
    "version": 3
   },
   "file_extension": ".py",
   "mimetype": "text/x-python",
   "name": "python",
   "nbconvert_exporter": "python",
   "pygments_lexer": "ipython3",
   "version": "3.6.5"
  }
 },
 "nbformat": 4,
 "nbformat_minor": 2
}
