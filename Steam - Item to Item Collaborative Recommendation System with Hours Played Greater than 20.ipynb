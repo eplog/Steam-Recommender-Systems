{
 "cells": [
  {
   "cell_type": "code",
   "execution_count": 1,
   "metadata": {
    "collapsed": true
   },
   "outputs": [],
   "source": [
    "# Packages for data manipulation\n",
    "import pandas as pd\n",
    "import numpy as np\n",
    "\n",
    "# Packages used to create the game recommender \n",
    "from sklearn.metrics.pairwise import pairwise_distances\n",
    "from sklearn.metrics.pairwise import euclidean_distances\n",
    "from sklearn.preprocessing import StandardScaler\n",
    "\n",
    "# Data visualization packages\n",
    "import matplotlib.pyplot as plt \n",
    "import seaborn as sns\n",
    "\n",
    "\n",
    "%matplotlib inline"
   ]
  },
  {
   "cell_type": "code",
   "execution_count": 2,
   "metadata": {
    "collapsed": true
   },
   "outputs": [],
   "source": [
    "# Importing Steam data from 2016 into a pandas dataframe\n",
    "\n",
    "df = pd.read_csv('./steam_data.csv')"
   ]
  },
  {
   "cell_type": "code",
   "execution_count": 3,
   "metadata": {},
   "outputs": [
    {
     "data": {
      "text/html": [
       "<div>\n",
       "<style scoped>\n",
       "    .dataframe tbody tr th:only-of-type {\n",
       "        vertical-align: middle;\n",
       "    }\n",
       "\n",
       "    .dataframe tbody tr th {\n",
       "        vertical-align: top;\n",
       "    }\n",
       "\n",
       "    .dataframe thead th {\n",
       "        text-align: right;\n",
       "    }\n",
       "</style>\n",
       "<table border=\"1\" class=\"dataframe\">\n",
       "  <thead>\n",
       "    <tr style=\"text-align: right;\">\n",
       "      <th></th>\n",
       "      <th>User ID</th>\n",
       "      <th>Game Title</th>\n",
       "      <th>Hours Played</th>\n",
       "    </tr>\n",
       "  </thead>\n",
       "  <tbody>\n",
       "    <tr>\n",
       "      <th>0</th>\n",
       "      <td>151603712</td>\n",
       "      <td>The Elder Scrolls V Skyrim</td>\n",
       "      <td>273.0</td>\n",
       "    </tr>\n",
       "    <tr>\n",
       "      <th>1</th>\n",
       "      <td>151603712</td>\n",
       "      <td>Fallout 4</td>\n",
       "      <td>87.0</td>\n",
       "    </tr>\n",
       "    <tr>\n",
       "      <th>2</th>\n",
       "      <td>151603712</td>\n",
       "      <td>Spore</td>\n",
       "      <td>14.9</td>\n",
       "    </tr>\n",
       "    <tr>\n",
       "      <th>3</th>\n",
       "      <td>151603712</td>\n",
       "      <td>Fallout New Vegas</td>\n",
       "      <td>12.1</td>\n",
       "    </tr>\n",
       "    <tr>\n",
       "      <th>4</th>\n",
       "      <td>151603712</td>\n",
       "      <td>Left 4 Dead 2</td>\n",
       "      <td>8.9</td>\n",
       "    </tr>\n",
       "  </tbody>\n",
       "</table>\n",
       "</div>"
      ],
      "text/plain": [
       "     User ID                  Game Title  Hours Played\n",
       "0  151603712  The Elder Scrolls V Skyrim         273.0\n",
       "1  151603712                   Fallout 4          87.0\n",
       "2  151603712                       Spore          14.9\n",
       "3  151603712           Fallout New Vegas          12.1\n",
       "4  151603712               Left 4 Dead 2           8.9"
      ]
     },
     "execution_count": 3,
     "metadata": {},
     "output_type": "execute_result"
    }
   ],
   "source": [
    "# Inspecting the dataframe\n",
    "\n",
    "df.head()"
   ]
  },
  {
   "cell_type": "code",
   "execution_count": 4,
   "metadata": {},
   "outputs": [
    {
     "data": {
      "text/plain": [
       "(70489, 3)"
      ]
     },
     "execution_count": 4,
     "metadata": {},
     "output_type": "execute_result"
    }
   ],
   "source": [
    "# Checking the shape of the dataframe\n",
    "\n",
    "df.shape"
   ]
  },
  {
   "cell_type": "code",
   "execution_count": 68,
   "metadata": {
    "collapsed": true
   },
   "outputs": [],
   "source": [
    "# Removing entries with less than 20 hours played to remove 1 hour outliers.\n",
    "\n",
    "df = df[df['Hours Played'] > 20]"
   ]
  },
  {
   "cell_type": "code",
   "execution_count": 69,
   "metadata": {
    "collapsed": true
   },
   "outputs": [],
   "source": [
    "# Creating a pivot table \n",
    "\n",
    "pivot = pd.pivot_table(df, index='User ID',columns='Game Title',values='Hours Played')"
   ]
  },
  {
   "cell_type": "code",
   "execution_count": 70,
   "metadata": {
    "collapsed": true
   },
   "outputs": [],
   "source": [
    "# Replacing NaN's with 0's\n",
    "\n",
    "pivot.fillna(0,inplace=True)"
   ]
  },
  {
   "cell_type": "code",
   "execution_count": 71,
   "metadata": {},
   "outputs": [
    {
     "data": {
      "text/plain": [
       "(4109, 766)"
      ]
     },
     "execution_count": 71,
     "metadata": {},
     "output_type": "execute_result"
    }
   ],
   "source": [
    "# Checking shape of pivot table\n",
    "\n",
    "pivot.shape"
   ]
  },
  {
   "cell_type": "code",
   "execution_count": 80,
   "metadata": {},
   "outputs": [
    {
     "data": {
      "text/plain": [
       "array([[-0.01560216, -0.0499805 , -0.02693775, ..., -0.01560216,\n",
       "        -0.01560216, -0.01560216],\n",
       "       [-0.01560216, -0.0499805 , -0.02693775, ..., -0.01560216,\n",
       "        -0.01560216, -0.01560216],\n",
       "       [-0.01560216, -0.0499805 , -0.02693775, ..., -0.01560216,\n",
       "        -0.01560216, -0.01560216],\n",
       "       ...,\n",
       "       [-0.01560216, -0.0499805 , -0.02693775, ..., -0.01560216,\n",
       "        -0.01560216, -0.01560216],\n",
       "       [-0.01560216, -0.0499805 , -0.02693775, ..., -0.01560216,\n",
       "        -0.01560216, -0.01560216],\n",
       "       [-0.01560216, -0.0499805 , -0.02693775, ..., -0.01560216,\n",
       "        -0.01560216, -0.01560216]])"
      ]
     },
     "execution_count": 80,
     "metadata": {},
     "output_type": "execute_result"
    }
   ],
   "source": [
    "# Scaling my data\n",
    "\n",
    "ss = StandardScaler()\n",
    "ss.fit_transform(pivot)"
   ]
  },
  {
   "cell_type": "code",
   "execution_count": 81,
   "metadata": {
    "collapsed": true
   },
   "outputs": [],
   "source": [
    "# Using pairwise distance to calculate correlation between games. I tried various metrics including: euclidean,hamming, etc.\n",
    "# Spearman's correlation created the most accurate recommendations\n",
    "\n",
    "distances = 1-pairwise_distances(pivot.T, metric='correlation')"
   ]
  },
  {
   "cell_type": "code",
   "execution_count": 82,
   "metadata": {
    "collapsed": true
   },
   "outputs": [],
   "source": [
    "# Putting distances in a df \n",
    "\n",
    "distance_df = pd.DataFrame(distances,index=pivot.columns, columns=pivot.columns)"
   ]
  },
  {
   "cell_type": "code",
   "execution_count": 90,
   "metadata": {},
   "outputs": [
    {
     "data": {
      "text/html": [
       "<div>\n",
       "<style scoped>\n",
       "    .dataframe tbody tr th:only-of-type {\n",
       "        vertical-align: middle;\n",
       "    }\n",
       "\n",
       "    .dataframe tbody tr th {\n",
       "        vertical-align: top;\n",
       "    }\n",
       "\n",
       "    .dataframe thead th {\n",
       "        text-align: right;\n",
       "    }\n",
       "</style>\n",
       "<table border=\"1\" class=\"dataframe\">\n",
       "  <thead>\n",
       "    <tr style=\"text-align: right;\">\n",
       "      <th>Game Title</th>\n",
       "      <th>3DMark</th>\n",
       "      <th>7 Days to Die</th>\n",
       "      <th>APB Reloaded</th>\n",
       "      <th>ARK Survival Evolved</th>\n",
       "      <th>Ace of Spades</th>\n",
       "      <th>Action! - Gameplay Recording and Streaming</th>\n",
       "      <th>AdVenture Capitalist</th>\n",
       "      <th>Aftermath</th>\n",
       "      <th>Agarest Generations of War</th>\n",
       "      <th>Age of Chivalry</th>\n",
       "      <th>...</th>\n",
       "      <th>X3 Reunion</th>\n",
       "      <th>X3 Terran Conflict</th>\n",
       "      <th>XCOM Enemy Unknown</th>\n",
       "      <th>Xenonauts</th>\n",
       "      <th>You Need A Budget 4 (YNAB)</th>\n",
       "      <th>Zombie Panic Source</th>\n",
       "      <th>Zuma's Revenge</th>\n",
       "      <th>liteCam Game 100 FPS Game Capture</th>\n",
       "      <th>theHunter</th>\n",
       "      <th>theHunter Primal</th>\n",
       "    </tr>\n",
       "    <tr>\n",
       "      <th>Game Title</th>\n",
       "      <th></th>\n",
       "      <th></th>\n",
       "      <th></th>\n",
       "      <th></th>\n",
       "      <th></th>\n",
       "      <th></th>\n",
       "      <th></th>\n",
       "      <th></th>\n",
       "      <th></th>\n",
       "      <th></th>\n",
       "      <th></th>\n",
       "      <th></th>\n",
       "      <th></th>\n",
       "      <th></th>\n",
       "      <th></th>\n",
       "      <th></th>\n",
       "      <th></th>\n",
       "      <th></th>\n",
       "      <th></th>\n",
       "      <th></th>\n",
       "      <th></th>\n",
       "    </tr>\n",
       "  </thead>\n",
       "  <tbody>\n",
       "    <tr>\n",
       "      <th>3DMark</th>\n",
       "      <td>1.00000</td>\n",
       "      <td>-0.00078</td>\n",
       "      <td>-0.000420</td>\n",
       "      <td>-0.001487</td>\n",
       "      <td>-0.000243</td>\n",
       "      <td>-0.000400</td>\n",
       "      <td>-0.000891</td>\n",
       "      <td>-0.000243</td>\n",
       "      <td>-0.000243</td>\n",
       "      <td>-0.000359</td>\n",
       "      <td>...</td>\n",
       "      <td>-0.000320</td>\n",
       "      <td>-0.000243</td>\n",
       "      <td>-0.001127</td>\n",
       "      <td>-0.000243</td>\n",
       "      <td>-0.000243</td>\n",
       "      <td>-0.000439</td>\n",
       "      <td>-0.000243</td>\n",
       "      <td>-0.000243</td>\n",
       "      <td>-0.000243</td>\n",
       "      <td>-0.000243</td>\n",
       "    </tr>\n",
       "    <tr>\n",
       "      <th>7 Days to Die</th>\n",
       "      <td>-0.00078</td>\n",
       "      <td>1.00000</td>\n",
       "      <td>-0.001346</td>\n",
       "      <td>0.054382</td>\n",
       "      <td>-0.000780</td>\n",
       "      <td>-0.001282</td>\n",
       "      <td>-0.002856</td>\n",
       "      <td>-0.000780</td>\n",
       "      <td>-0.000780</td>\n",
       "      <td>-0.001150</td>\n",
       "      <td>...</td>\n",
       "      <td>-0.001025</td>\n",
       "      <td>-0.000780</td>\n",
       "      <td>0.007639</td>\n",
       "      <td>-0.000780</td>\n",
       "      <td>-0.000780</td>\n",
       "      <td>-0.001405</td>\n",
       "      <td>-0.000780</td>\n",
       "      <td>-0.000780</td>\n",
       "      <td>-0.000780</td>\n",
       "      <td>-0.000780</td>\n",
       "    </tr>\n",
       "  </tbody>\n",
       "</table>\n",
       "<p>2 rows × 766 columns</p>\n",
       "</div>"
      ],
      "text/plain": [
       "Game Title      3DMark  7 Days to Die  APB Reloaded  ARK Survival Evolved  \\\n",
       "Game Title                                                                  \n",
       "3DMark         1.00000       -0.00078     -0.000420             -0.001487   \n",
       "7 Days to Die -0.00078        1.00000     -0.001346              0.054382   \n",
       "\n",
       "Game Title     Ace of Spades  Action! - Gameplay Recording and Streaming  \\\n",
       "Game Title                                                                 \n",
       "3DMark             -0.000243                                   -0.000400   \n",
       "7 Days to Die      -0.000780                                   -0.001282   \n",
       "\n",
       "Game Title     AdVenture Capitalist  Aftermath  Agarest Generations of War  \\\n",
       "Game Title                                                                   \n",
       "3DMark                    -0.000891  -0.000243                   -0.000243   \n",
       "7 Days to Die             -0.002856  -0.000780                   -0.000780   \n",
       "\n",
       "Game Title     Age of Chivalry        ...         X3 Reunion  \\\n",
       "Game Title                            ...                      \n",
       "3DMark               -0.000359        ...          -0.000320   \n",
       "7 Days to Die        -0.001150        ...          -0.001025   \n",
       "\n",
       "Game Title     X3 Terran Conflict  XCOM Enemy Unknown  Xenonauts  \\\n",
       "Game Title                                                         \n",
       "3DMark                  -0.000243           -0.001127  -0.000243   \n",
       "7 Days to Die           -0.000780            0.007639  -0.000780   \n",
       "\n",
       "Game Title     You Need A Budget 4 (YNAB)  Zombie Panic Source  \\\n",
       "Game Title                                                       \n",
       "3DMark                          -0.000243            -0.000439   \n",
       "7 Days to Die                   -0.000780            -0.001405   \n",
       "\n",
       "Game Title     Zuma's Revenge  liteCam Game 100 FPS Game Capture  theHunter  \\\n",
       "Game Title                                                                    \n",
       "3DMark              -0.000243                          -0.000243  -0.000243   \n",
       "7 Days to Die       -0.000780                          -0.000780  -0.000780   \n",
       "\n",
       "Game Title     theHunter Primal  \n",
       "Game Title                       \n",
       "3DMark                -0.000243  \n",
       "7 Days to Die         -0.000780  \n",
       "\n",
       "[2 rows x 766 columns]"
      ]
     },
     "execution_count": 90,
     "metadata": {},
     "output_type": "execute_result"
    }
   ],
   "source": [
    "# Checking the df to verify everything worked okay\n",
    "\n",
    "distance_df.head(2)"
   ]
  },
  {
   "cell_type": "code",
   "execution_count": 84,
   "metadata": {},
   "outputs": [
    {
     "data": {
      "text/plain": [
       "Game Title\n",
       "Red Faction Guerrilla Steam Edition                      0.484991\n",
       "Sid Meier's Civilization IV                              0.454930\n",
       "The Elder Scrolls IV Oblivion                            0.410416\n",
       "Dungeons & Dragons Online                                0.307679\n",
       "Magic The Gathering - Duels of the Planeswalkers 2013    0.278915\n",
       "The Last Remnant                                         0.258306\n",
       "The Elder Scrolls III Morrowind                          0.214319\n",
       "Marvel Puzzle Quest                                      0.200070\n",
       "Gems of War                                              0.199866\n",
       "Kingdoms of Amalur Reckoning                             0.192437\n",
       "Magic The Gathering  Duels of the Planeswalkers 2012     0.170702\n",
       "Fallout New Vegas                                        0.140011\n",
       "FTL Faster Than Light                                    0.131119\n",
       "Divinity Original Sin                                    0.078424\n",
       "Name: Fallout 3, dtype: float64"
      ]
     },
     "execution_count": 84,
     "metadata": {},
     "output_type": "execute_result"
    }
   ],
   "source": [
    "# Viewing recommendations for a game\n",
    "\n",
    "query = \"Fallout 3\"\n",
    "query = [col for col in distance_df.columns if query in col][0]\n",
    "distance_df[query].sort_values(ascending=False)[1:15]"
   ]
  },
  {
   "cell_type": "code",
   "execution_count": 85,
   "metadata": {},
   "outputs": [
    {
     "data": {
      "text/plain": [
       "Game Title\n",
       "Tom Clancy's Ghost Recon Future Soldier               0.352744\n",
       "Bound By Flame                                        0.352744\n",
       "Galactic Civilizations III                            0.322048\n",
       "Elite Dangerous                                       0.295867\n",
       "Total War ATTILA                                      0.214103\n",
       "Lords Of The Fallen                                   0.174676\n",
       "NOBUNAGA'S AMBITION Sphere of Influence               0.164355\n",
       "Hitman Absolution                                     0.164290\n",
       "The Incredible Adventures of Van Helsing Final Cut    0.143675\n",
       "The Incredible Adventures of Van Helsing              0.143675\n",
       "Demigod                                               0.143675\n",
       "Middle-earth Shadow of Mordor                         0.136792\n",
       "Warframe                                              0.129916\n",
       "Total War ROME II - Emperor Edition                   0.112038\n",
       "Name: Path of Exile, dtype: float64"
      ]
     },
     "execution_count": 85,
     "metadata": {},
     "output_type": "execute_result"
    }
   ],
   "source": [
    "# Viewing recommendations for a game\n",
    "\n",
    "query = \"Path of Exile\"\n",
    "query = [col for col in distance_df.columns if query in col][0]\n",
    "distance_df[query].sort_values(ascending=False)[1:15]"
   ]
  },
  {
   "cell_type": "code",
   "execution_count": 86,
   "metadata": {},
   "outputs": [
    {
     "data": {
      "text/plain": [
       "Game Title\n",
       "Company of Heroes Opposing Fronts             0.111185\n",
       "Dark Messiah of Might & Magic Multi-Player    0.098890\n",
       "Dungeon Defenders II                          0.074264\n",
       "I Am Alive                                    0.074155\n",
       "Alan Wake                                     0.072259\n",
       "Warhammer End Times - Vermintide              0.068007\n",
       "Darksiders                                    0.066796\n",
       "SMITE                                         0.056918\n",
       "Company of Heroes                             0.053185\n",
       "Nosgoth                                       0.050085\n",
       "The Walking Dead                              0.043423\n",
       "Batman Arkham Asylum GOTY Edition             0.040994\n",
       "Fallout 3 - Game of the Year Edition          0.039018\n",
       "Castle Crashers                               0.039001\n",
       "Name: Dota 2, dtype: float64"
      ]
     },
     "execution_count": 86,
     "metadata": {},
     "output_type": "execute_result"
    }
   ],
   "source": [
    "# Viewing recommendations for a game\n",
    "\n",
    "query = \"Dota 2\"\n",
    "query = [col for col in distance_df.columns if query in col][0]\n",
    "distance_df[query].sort_values(ascending=False)[1:15]"
   ]
  },
  {
   "cell_type": "code",
   "execution_count": 87,
   "metadata": {},
   "outputs": [
    {
     "data": {
      "text/plain": [
       "Game Title\n",
       "Call of Duty Black Ops - Multiplayer OSX      0.236689\n",
       "Counter-Strike Source                         0.224187\n",
       "Pro Cycling Manager 2013                      0.203235\n",
       "Two Worlds II                                 0.146247\n",
       "Rust                                          0.138779\n",
       "AdVenture Capitalist                          0.093933\n",
       "DayZ                                          0.093747\n",
       "Garry's Mod                                   0.091050\n",
       "GRID 2                                        0.079809\n",
       "Counter-Strike                                0.078470\n",
       "H1Z1                                          0.076947\n",
       "The Elder Scrolls Online Tamriel Unlimited    0.074776\n",
       "Arma 2 Operation Arrowhead                    0.074266\n",
       "Unturned                                      0.067058\n",
       "Name: Counter-Strike Global Offensive, dtype: float64"
      ]
     },
     "execution_count": 87,
     "metadata": {},
     "output_type": "execute_result"
    }
   ],
   "source": [
    "# Viewing recommendations for a game\n",
    "\n",
    "query = \"Counter-Strike Global Offensive\"\n",
    "query = [col for col in distance_df.columns if query in col][0]\n",
    "distance_df[query].sort_values(ascending=False)[1:15]"
   ]
  }
 ],
 "metadata": {
  "kernelspec": {
   "display_name": "Python [conda env:dsi]",
   "language": "python",
   "name": "conda-env-dsi-py"
  },
  "language_info": {
   "codemirror_mode": {
    "name": "ipython",
    "version": 3
   },
   "file_extension": ".py",
   "mimetype": "text/x-python",
   "name": "python",
   "nbconvert_exporter": "python",
   "pygments_lexer": "ipython3",
   "version": "3.6.5"
  }
 },
 "nbformat": 4,
 "nbformat_minor": 2
}
