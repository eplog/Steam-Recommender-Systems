{
 "cells": [
  {
   "cell_type": "code",
   "execution_count": 1,
   "metadata": {
    "collapsed": true
   },
   "outputs": [],
   "source": [
    "# Packages for data manipulation\n",
    "import pandas as pd\n",
    "import numpy as np\n",
    "\n",
    "# Packages used to create the game recommender \n",
    "from sklearn.metrics.pairwise import pairwise_distances\n",
    "from sklearn.metrics.pairwise import euclidean_distances\n",
    "from sklearn.preprocessing import StandardScaler\n",
    "\n",
    "# Data visualization packages\n",
    "import matplotlib.pyplot as plt \n",
    "import seaborn as sns\n",
    "\n",
    "\n",
    "%matplotlib inline"
   ]
  },
  {
   "cell_type": "code",
   "execution_count": 2,
   "metadata": {
    "collapsed": true
   },
   "outputs": [],
   "source": [
    "# Importing Steam data from 2016 into a pandas dataframe\n",
    "\n",
    "df = pd.read_csv('./steam_data.csv')"
   ]
  },
  {
   "cell_type": "code",
   "execution_count": 3,
   "metadata": {},
   "outputs": [
    {
     "data": {
      "text/html": [
       "<div>\n",
       "<style scoped>\n",
       "    .dataframe tbody tr th:only-of-type {\n",
       "        vertical-align: middle;\n",
       "    }\n",
       "\n",
       "    .dataframe tbody tr th {\n",
       "        vertical-align: top;\n",
       "    }\n",
       "\n",
       "    .dataframe thead th {\n",
       "        text-align: right;\n",
       "    }\n",
       "</style>\n",
       "<table border=\"1\" class=\"dataframe\">\n",
       "  <thead>\n",
       "    <tr style=\"text-align: right;\">\n",
       "      <th></th>\n",
       "      <th>User ID</th>\n",
       "      <th>Game Title</th>\n",
       "      <th>Hours Played</th>\n",
       "    </tr>\n",
       "  </thead>\n",
       "  <tbody>\n",
       "    <tr>\n",
       "      <th>0</th>\n",
       "      <td>151603712</td>\n",
       "      <td>The Elder Scrolls V Skyrim</td>\n",
       "      <td>273.0</td>\n",
       "    </tr>\n",
       "    <tr>\n",
       "      <th>1</th>\n",
       "      <td>151603712</td>\n",
       "      <td>Fallout 4</td>\n",
       "      <td>87.0</td>\n",
       "    </tr>\n",
       "    <tr>\n",
       "      <th>2</th>\n",
       "      <td>151603712</td>\n",
       "      <td>Spore</td>\n",
       "      <td>14.9</td>\n",
       "    </tr>\n",
       "    <tr>\n",
       "      <th>3</th>\n",
       "      <td>151603712</td>\n",
       "      <td>Fallout New Vegas</td>\n",
       "      <td>12.1</td>\n",
       "    </tr>\n",
       "    <tr>\n",
       "      <th>4</th>\n",
       "      <td>151603712</td>\n",
       "      <td>Left 4 Dead 2</td>\n",
       "      <td>8.9</td>\n",
       "    </tr>\n",
       "  </tbody>\n",
       "</table>\n",
       "</div>"
      ],
      "text/plain": [
       "     User ID                  Game Title  Hours Played\n",
       "0  151603712  The Elder Scrolls V Skyrim         273.0\n",
       "1  151603712                   Fallout 4          87.0\n",
       "2  151603712                       Spore          14.9\n",
       "3  151603712           Fallout New Vegas          12.1\n",
       "4  151603712               Left 4 Dead 2           8.9"
      ]
     },
     "execution_count": 3,
     "metadata": {},
     "output_type": "execute_result"
    }
   ],
   "source": [
    "# Inspecting the dataframe\n",
    "\n",
    "df.head()"
   ]
  },
  {
   "cell_type": "code",
   "execution_count": 4,
   "metadata": {},
   "outputs": [
    {
     "data": {
      "text/plain": [
       "(70489, 3)"
      ]
     },
     "execution_count": 4,
     "metadata": {},
     "output_type": "execute_result"
    }
   ],
   "source": [
    "# Checking the shape of the dataframe\n",
    "\n",
    "df.shape"
   ]
  },
  {
   "cell_type": "code",
   "execution_count": 5,
   "metadata": {
    "collapsed": true
   },
   "outputs": [],
   "source": [
    "# Removing entries with less than 20 hours played to remove 1 hour outliers.\n",
    "\n",
    "df = df[df['Hours Played'] > 20]"
   ]
  },
  {
   "cell_type": "code",
   "execution_count": 6,
   "metadata": {
    "collapsed": true
   },
   "outputs": [],
   "source": [
    "# Creating a pivot table \n",
    "\n",
    "pivot = pd.pivot_table(df, index='User ID',columns='Game Title',values='Hours Played')"
   ]
  },
  {
   "cell_type": "code",
   "execution_count": 7,
   "metadata": {
    "collapsed": true
   },
   "outputs": [],
   "source": [
    "# Replacing NaN's with 0's\n",
    "\n",
    "pivot.fillna(0,inplace=True)"
   ]
  },
  {
   "cell_type": "code",
   "execution_count": 8,
   "metadata": {},
   "outputs": [
    {
     "data": {
      "text/plain": [
       "(5329, 1228)"
      ]
     },
     "execution_count": 8,
     "metadata": {},
     "output_type": "execute_result"
    }
   ],
   "source": [
    "# Checking shape of pivot table\n",
    "\n",
    "pivot.shape"
   ]
  },
  {
   "cell_type": "code",
   "execution_count": 9,
   "metadata": {},
   "outputs": [
    {
     "data": {
      "text/plain": [
       "array([[-0.01934092, -0.01561408, -0.01369992, ..., -0.01369992,\n",
       "        -0.01727495, -0.01369992],\n",
       "       [-0.01934092, -0.01561408, -0.01369992, ..., -0.01369992,\n",
       "        -0.01727495, -0.01369992],\n",
       "       [-0.01934092, -0.01561408, -0.01369992, ..., -0.01369992,\n",
       "        -0.01727495, -0.01369992],\n",
       "       ...,\n",
       "       [-0.01934092, -0.01561408, -0.01369992, ..., -0.01369992,\n",
       "        -0.01727495, -0.01369992],\n",
       "       [-0.01934092, -0.01561408, -0.01369992, ..., -0.01369992,\n",
       "        -0.01727495, -0.01369992],\n",
       "       [-0.01934092, -0.01561408, -0.01369992, ..., -0.01369992,\n",
       "        -0.01727495, -0.01369992]])"
      ]
     },
     "execution_count": 9,
     "metadata": {},
     "output_type": "execute_result"
    }
   ],
   "source": [
    "# Scaling my data\n",
    "\n",
    "ss = StandardScaler()\n",
    "ss.fit_transform(pivot)"
   ]
  },
  {
   "cell_type": "code",
   "execution_count": 10,
   "metadata": {
    "collapsed": true
   },
   "outputs": [],
   "source": [
    "# Using pairwise distance to calculate correlation between games. I tried various metrics including: euclidean,hamming, etc.\n",
    "# Spearman's correlation created the most accurate recommendations\n",
    "\n",
    "distances = 1-pairwise_distances(pivot.T, metric='correlation')"
   ]
  },
  {
   "cell_type": "code",
   "execution_count": 11,
   "metadata": {
    "collapsed": true
   },
   "outputs": [],
   "source": [
    "# Putting distances in a df \n",
    "\n",
    "distance_df = pd.DataFrame(distances,index=pivot.columns, columns=pivot.columns)"
   ]
  },
  {
   "cell_type": "code",
   "execution_count": 12,
   "metadata": {},
   "outputs": [
    {
     "data": {
      "text/html": [
       "<div>\n",
       "<style scoped>\n",
       "    .dataframe tbody tr th:only-of-type {\n",
       "        vertical-align: middle;\n",
       "    }\n",
       "\n",
       "    .dataframe tbody tr th {\n",
       "        vertical-align: top;\n",
       "    }\n",
       "\n",
       "    .dataframe thead th {\n",
       "        text-align: right;\n",
       "    }\n",
       "</style>\n",
       "<table border=\"1\" class=\"dataframe\">\n",
       "  <thead>\n",
       "    <tr style=\"text-align: right;\">\n",
       "      <th>Game Title</th>\n",
       "      <th>100% Orange Juice</th>\n",
       "      <th>3DMark</th>\n",
       "      <th>3DMark Vantage</th>\n",
       "      <th>4 Elements</th>\n",
       "      <th>7 Days to Die</th>\n",
       "      <th>8BitBoy</th>\n",
       "      <th>A Game of Thrones - Genesis</th>\n",
       "      <th>A.V.A - Alliance of Valiant Arms</th>\n",
       "      <th>AKIBA'S TRIP Undead &amp; Undressed</th>\n",
       "      <th>APB Reloaded</th>\n",
       "      <th>...</th>\n",
       "      <th>You Must Build A Boat</th>\n",
       "      <th>You Need A Budget 4 (YNAB)</th>\n",
       "      <th>Ys Origin</th>\n",
       "      <th>Zombie Panic Source</th>\n",
       "      <th>Zombies Monsters Robots</th>\n",
       "      <th>Zuma's Revenge</th>\n",
       "      <th>liteCam Game 100 FPS Game Capture</th>\n",
       "      <th>resident evil 4 / biohazard 4</th>\n",
       "      <th>theHunter</th>\n",
       "      <th>theHunter Primal</th>\n",
       "    </tr>\n",
       "    <tr>\n",
       "      <th>Game Title</th>\n",
       "      <th></th>\n",
       "      <th></th>\n",
       "      <th></th>\n",
       "      <th></th>\n",
       "      <th></th>\n",
       "      <th></th>\n",
       "      <th></th>\n",
       "      <th></th>\n",
       "      <th></th>\n",
       "      <th></th>\n",
       "      <th></th>\n",
       "      <th></th>\n",
       "      <th></th>\n",
       "      <th></th>\n",
       "      <th></th>\n",
       "      <th></th>\n",
       "      <th></th>\n",
       "      <th></th>\n",
       "      <th></th>\n",
       "      <th></th>\n",
       "      <th></th>\n",
       "    </tr>\n",
       "  </thead>\n",
       "  <tbody>\n",
       "    <tr>\n",
       "      <th>100% Orange Juice</th>\n",
       "      <td>1.000000</td>\n",
       "      <td>-0.000302</td>\n",
       "      <td>-0.000265</td>\n",
       "      <td>-0.000265</td>\n",
       "      <td>-0.000980</td>\n",
       "      <td>-0.000265</td>\n",
       "      <td>-0.000265</td>\n",
       "      <td>-0.000265</td>\n",
       "      <td>-0.000265</td>\n",
       "      <td>-0.000467</td>\n",
       "      <td>...</td>\n",
       "      <td>-0.000265</td>\n",
       "      <td>-0.000346</td>\n",
       "      <td>-0.000265</td>\n",
       "      <td>-0.000477</td>\n",
       "      <td>-0.000359</td>\n",
       "      <td>-0.000265</td>\n",
       "      <td>-0.000265</td>\n",
       "      <td>-0.000265</td>\n",
       "      <td>-0.000334</td>\n",
       "      <td>-0.000265</td>\n",
       "    </tr>\n",
       "    <tr>\n",
       "      <th>3DMark</th>\n",
       "      <td>-0.000302</td>\n",
       "      <td>1.000000</td>\n",
       "      <td>0.988505</td>\n",
       "      <td>-0.000214</td>\n",
       "      <td>-0.000791</td>\n",
       "      <td>-0.000214</td>\n",
       "      <td>-0.000214</td>\n",
       "      <td>-0.000214</td>\n",
       "      <td>-0.000214</td>\n",
       "      <td>-0.000377</td>\n",
       "      <td>...</td>\n",
       "      <td>-0.000214</td>\n",
       "      <td>-0.000279</td>\n",
       "      <td>-0.000214</td>\n",
       "      <td>-0.000385</td>\n",
       "      <td>-0.000290</td>\n",
       "      <td>-0.000214</td>\n",
       "      <td>-0.000214</td>\n",
       "      <td>-0.000214</td>\n",
       "      <td>-0.000270</td>\n",
       "      <td>-0.000214</td>\n",
       "    </tr>\n",
       "  </tbody>\n",
       "</table>\n",
       "<p>2 rows × 1228 columns</p>\n",
       "</div>"
      ],
      "text/plain": [
       "Game Title         100% Orange Juice    3DMark  3DMark Vantage  4 Elements  \\\n",
       "Game Title                                                                   \n",
       "100% Orange Juice           1.000000 -0.000302       -0.000265   -0.000265   \n",
       "3DMark                     -0.000302  1.000000        0.988505   -0.000214   \n",
       "\n",
       "Game Title         7 Days to Die   8BitBoy  A Game of Thrones - Genesis  \\\n",
       "Game Title                                                                \n",
       "100% Orange Juice      -0.000980 -0.000265                    -0.000265   \n",
       "3DMark                 -0.000791 -0.000214                    -0.000214   \n",
       "\n",
       "Game Title         A.V.A - Alliance of Valiant Arms  \\\n",
       "Game Title                                            \n",
       "100% Orange Juice                         -0.000265   \n",
       "3DMark                                    -0.000214   \n",
       "\n",
       "Game Title         AKIBA'S TRIP Undead & Undressed  APB Reloaded  \\\n",
       "Game Title                                                         \n",
       "100% Orange Juice                        -0.000265     -0.000467   \n",
       "3DMark                                   -0.000214     -0.000377   \n",
       "\n",
       "Game Title               ...         You Must Build A Boat  \\\n",
       "Game Title               ...                                 \n",
       "100% Orange Juice        ...                     -0.000265   \n",
       "3DMark                   ...                     -0.000214   \n",
       "\n",
       "Game Title         You Need A Budget 4 (YNAB)  Ys Origin  Zombie Panic Source  \\\n",
       "Game Title                                                                      \n",
       "100% Orange Juice                   -0.000346  -0.000265            -0.000477   \n",
       "3DMark                              -0.000279  -0.000214            -0.000385   \n",
       "\n",
       "Game Title         Zombies Monsters Robots  Zuma's Revenge  \\\n",
       "Game Title                                                   \n",
       "100% Orange Juice                -0.000359       -0.000265   \n",
       "3DMark                           -0.000290       -0.000214   \n",
       "\n",
       "Game Title         liteCam Game 100 FPS Game Capture  \\\n",
       "Game Title                                             \n",
       "100% Orange Juice                          -0.000265   \n",
       "3DMark                                     -0.000214   \n",
       "\n",
       "Game Title         resident evil 4 / biohazard 4  theHunter  theHunter Primal  \n",
       "Game Title                                                                     \n",
       "100% Orange Juice                      -0.000265  -0.000334         -0.000265  \n",
       "3DMark                                 -0.000214  -0.000270         -0.000214  \n",
       "\n",
       "[2 rows x 1228 columns]"
      ]
     },
     "execution_count": 12,
     "metadata": {},
     "output_type": "execute_result"
    }
   ],
   "source": [
    "# Checking the df to verify everything worked okay\n",
    "\n",
    "distance_df.head(2)"
   ]
  },
  {
   "cell_type": "code",
   "execution_count": 13,
   "metadata": {},
   "outputs": [
    {
     "data": {
      "text/plain": [
       "Game Title\n",
       "Commandos 2 Men of Courage                               0.501064\n",
       "Red Faction Guerrilla Steam Edition                      0.413284\n",
       "Sid Meier's Civilization IV                              0.399437\n",
       "The Elder Scrolls IV Oblivion                            0.385708\n",
       "Dungeons & Dragons Online                                0.275359\n",
       "The Maw                                                  0.269582\n",
       "GALAK-Z                                                  0.269582\n",
       "Magic The Gathering - Duels of the Planeswalkers 2013    0.262619\n",
       "The Last Remnant                                         0.213352\n",
       "Marvel Puzzle Quest                                      0.192523\n",
       "The Elder Scrolls III Morrowind                          0.190282\n",
       "Gems of War                                              0.185458\n",
       "Kingdoms of Amalur Reckoning                             0.177514\n",
       "Magic The Gathering  Duels of the Planeswalkers 2012     0.159221\n",
       "Name: Fallout 3, dtype: float64"
      ]
     },
     "execution_count": 13,
     "metadata": {},
     "output_type": "execute_result"
    }
   ],
   "source": [
    "# Viewing recommendations for a game\n",
    "\n",
    "query = \"Fallout 3\"\n",
    "query = [col for col in distance_df.columns if query in col][0]\n",
    "distance_df[query].sort_values(ascending=False)[1:15]"
   ]
  },
  {
   "cell_type": "code",
   "execution_count": 14,
   "metadata": {},
   "outputs": [
    {
     "data": {
      "text/plain": [
       "Game Title\n",
       "Bound By Flame                                         0.351856\n",
       "Divinity II - Ego Draconis                             0.351856\n",
       "Galactic Civilizations III                             0.319710\n",
       "Elite Dangerous                                        0.297479\n",
       "Earth 2160                                             0.243138\n",
       "Tom Clancy's Ghost Recon Future Soldier                0.226724\n",
       "Total War ATTILA                                       0.211502\n",
       "Fallout Tactics                                        0.208190\n",
       "The Wolf Among Us                                      0.205204\n",
       "Star Wars The Force Unleashed Ultimate Sith Edition    0.192394\n",
       "King's Bounty The Legend                               0.189610\n",
       "Aquaria                                                0.174404\n",
       "Lords Of The Fallen                                    0.167703\n",
       "NOBUNAGA'S AMBITION Sphere of Influence                0.164076\n",
       "Name: Path of Exile, dtype: float64"
      ]
     },
     "execution_count": 14,
     "metadata": {},
     "output_type": "execute_result"
    }
   ],
   "source": [
    "# Viewing recommendations for a game\n",
    "\n",
    "query = \"Path of Exile\"\n",
    "query = [col for col in distance_df.columns if query in col][0]\n",
    "distance_df[query].sort_values(ascending=False)[1:15]"
   ]
  },
  {
   "cell_type": "code",
   "execution_count": 15,
   "metadata": {},
   "outputs": [
    {
     "data": {
      "text/plain": [
       "Game Title\n",
       "Company of Heroes Opposing Fronts             0.109541\n",
       "Dark Messiah of Might & Magic Multi-Player    0.098527\n",
       "Titan Quest                                   0.092437\n",
       "I Am Alive                                    0.074373\n",
       "Alan Wake                                     0.071014\n",
       "Nuclear Dawn                                  0.063504\n",
       "Darksiders                                    0.062931\n",
       "Dungeon Defenders II                          0.061327\n",
       "Everlasting Summer                            0.057806\n",
       "Nosgoth                                       0.057119\n",
       "Devilian                                      0.056630\n",
       "Global Agenda - Beta                          0.053776\n",
       "Warhammer End Times - Vermintide              0.053564\n",
       "Resident Evil / biohazard HD REMASTER         0.052629\n",
       "Name: Dota 2, dtype: float64"
      ]
     },
     "execution_count": 15,
     "metadata": {},
     "output_type": "execute_result"
    }
   ],
   "source": [
    "# Viewing recommendations for a game\n",
    "\n",
    "query = \"Dota 2\"\n",
    "query = [col for col in distance_df.columns if query in col][0]\n",
    "distance_df[query].sort_values(ascending=False)[1:15]"
   ]
  },
  {
   "cell_type": "code",
   "execution_count": 16,
   "metadata": {},
   "outputs": [
    {
     "data": {
      "text/plain": [
       "Game Title\n",
       "Call of Duty Black Ops - Multiplayer OSX    0.235565\n",
       "Counter-Strike Source                       0.231499\n",
       "Pro Cycling Manager 2015                    0.224438\n",
       "TrackMania United                           0.212074\n",
       "KickBeat Steam Edition                      0.199585\n",
       "Pro Cycling Manager 2013                    0.197309\n",
       "Rust                                        0.155427\n",
       "Nidhogg                                     0.141542\n",
       "Two Worlds II                               0.121167\n",
       "Garry's Mod                                 0.103960\n",
       "GRID 2                                      0.102362\n",
       "DayZ                                        0.101925\n",
       "Medal of Honor(TM) Multiplayer              0.098457\n",
       "AdVenture Capitalist                        0.098017\n",
       "Name: Counter-Strike Global Offensive, dtype: float64"
      ]
     },
     "execution_count": 16,
     "metadata": {},
     "output_type": "execute_result"
    }
   ],
   "source": [
    "# Viewing recommendations for a game\n",
    "\n",
    "query = \"Counter-Strike Global Offensive\"\n",
    "query = [col for col in distance_df.columns if query in col][0]\n",
    "distance_df[query].sort_values(ascending=False)[1:15]"
   ]
  },
  {
   "cell_type": "code",
   "execution_count": 17,
   "metadata": {},
   "outputs": [
    {
     "data": {
      "text/plain": [
       "Game Title\n",
       "Breezeblox                      0.726609\n",
       "Rooms The Unsolvable Puzzle     0.726609\n",
       "Freedom Fall                    0.726609\n",
       "Scarygirl                       0.726609\n",
       "Cave Story+                     0.726609\n",
       "Bard's Gold                     0.726609\n",
       "Glare                           0.726609\n",
       "The Cave                        0.726609\n",
       "Escape Goat                     0.726609\n",
       "Giana Sisters Twisted Dreams    0.631817\n",
       "Ori and the Blind Forest        0.441283\n",
       "The Stanley Parable             0.370565\n",
       "Gang Beasts                     0.370565\n",
       "Environmental Station Alpha     0.370565\n",
       "Name: Shovel Knight, dtype: float64"
      ]
     },
     "execution_count": 17,
     "metadata": {},
     "output_type": "execute_result"
    }
   ],
   "source": [
    "# Viewing recommendations for a game\n",
    "\n",
    "query = \"Shovel Knight\"\n",
    "query = [col for col in distance_df.columns if query in col][0]\n",
    "distance_df[query].sort_values(ascending=False)[1:15]"
   ]
  },
  {
   "cell_type": "code",
   "execution_count": null,
   "metadata": {
    "collapsed": true
   },
   "outputs": [],
   "source": []
  }
 ],
 "metadata": {
  "kernelspec": {
   "display_name": "Python [conda env:dsi]",
   "language": "python",
   "name": "conda-env-dsi-py"
  },
  "language_info": {
   "codemirror_mode": {
    "name": "ipython",
    "version": 3
   },
   "file_extension": ".py",
   "mimetype": "text/x-python",
   "name": "python",
   "nbconvert_exporter": "python",
   "pygments_lexer": "ipython3",
   "version": "3.6.5"
  }
 },
 "nbformat": 4,
 "nbformat_minor": 2
}
