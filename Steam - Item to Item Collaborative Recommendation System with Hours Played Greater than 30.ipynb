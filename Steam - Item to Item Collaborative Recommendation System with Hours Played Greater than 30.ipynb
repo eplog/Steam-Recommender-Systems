{
 "cells": [
  {
   "cell_type": "code",
   "execution_count": 1,
   "metadata": {
    "collapsed": true
   },
   "outputs": [],
   "source": [
    "# Packages for data manipulation\n",
    "import pandas as pd\n",
    "import numpy as np\n",
    "\n",
    "# Packages used to create the game recommender \n",
    "from sklearn.metrics.pairwise import pairwise_distances\n",
    "from sklearn.metrics.pairwise import euclidean_distances\n",
    "from sklearn.preprocessing import StandardScaler\n",
    "\n",
    "# Data visualization packages\n",
    "import matplotlib.pyplot as plt \n",
    "import seaborn as sns\n",
    "\n",
    "\n",
    "%matplotlib inline"
   ]
  },
  {
   "cell_type": "code",
   "execution_count": 2,
   "metadata": {
    "collapsed": true
   },
   "outputs": [],
   "source": [
    "# Importing Steam data from 2016 into a pandas dataframe\n",
    "\n",
    "df = pd.read_csv('./steam_data.csv')"
   ]
  },
  {
   "cell_type": "code",
   "execution_count": 3,
   "metadata": {},
   "outputs": [
    {
     "data": {
      "text/html": [
       "<div>\n",
       "<style scoped>\n",
       "    .dataframe tbody tr th:only-of-type {\n",
       "        vertical-align: middle;\n",
       "    }\n",
       "\n",
       "    .dataframe tbody tr th {\n",
       "        vertical-align: top;\n",
       "    }\n",
       "\n",
       "    .dataframe thead th {\n",
       "        text-align: right;\n",
       "    }\n",
       "</style>\n",
       "<table border=\"1\" class=\"dataframe\">\n",
       "  <thead>\n",
       "    <tr style=\"text-align: right;\">\n",
       "      <th></th>\n",
       "      <th>User ID</th>\n",
       "      <th>Game Title</th>\n",
       "      <th>Hours Played</th>\n",
       "    </tr>\n",
       "  </thead>\n",
       "  <tbody>\n",
       "    <tr>\n",
       "      <th>0</th>\n",
       "      <td>151603712</td>\n",
       "      <td>The Elder Scrolls V Skyrim</td>\n",
       "      <td>273.0</td>\n",
       "    </tr>\n",
       "    <tr>\n",
       "      <th>1</th>\n",
       "      <td>151603712</td>\n",
       "      <td>Fallout 4</td>\n",
       "      <td>87.0</td>\n",
       "    </tr>\n",
       "    <tr>\n",
       "      <th>2</th>\n",
       "      <td>151603712</td>\n",
       "      <td>Spore</td>\n",
       "      <td>14.9</td>\n",
       "    </tr>\n",
       "    <tr>\n",
       "      <th>3</th>\n",
       "      <td>151603712</td>\n",
       "      <td>Fallout New Vegas</td>\n",
       "      <td>12.1</td>\n",
       "    </tr>\n",
       "    <tr>\n",
       "      <th>4</th>\n",
       "      <td>151603712</td>\n",
       "      <td>Left 4 Dead 2</td>\n",
       "      <td>8.9</td>\n",
       "    </tr>\n",
       "  </tbody>\n",
       "</table>\n",
       "</div>"
      ],
      "text/plain": [
       "     User ID                  Game Title  Hours Played\n",
       "0  151603712  The Elder Scrolls V Skyrim         273.0\n",
       "1  151603712                   Fallout 4          87.0\n",
       "2  151603712                       Spore          14.9\n",
       "3  151603712           Fallout New Vegas          12.1\n",
       "4  151603712               Left 4 Dead 2           8.9"
      ]
     },
     "execution_count": 3,
     "metadata": {},
     "output_type": "execute_result"
    }
   ],
   "source": [
    "# Inspecting the dataframe\n",
    "\n",
    "df.head()"
   ]
  },
  {
   "cell_type": "code",
   "execution_count": 4,
   "metadata": {},
   "outputs": [
    {
     "data": {
      "text/plain": [
       "(70489, 3)"
      ]
     },
     "execution_count": 4,
     "metadata": {},
     "output_type": "execute_result"
    }
   ],
   "source": [
    "# Checking the shape of the dataframe\n",
    "\n",
    "df.shape"
   ]
  },
  {
   "cell_type": "code",
   "execution_count": 5,
   "metadata": {
    "collapsed": true
   },
   "outputs": [],
   "source": [
    "# Removing entries with less than 30 hours played\n",
    "\n",
    "df = df[df['Hours Played'] > 30]"
   ]
  },
  {
   "cell_type": "code",
   "execution_count": 6,
   "metadata": {
    "collapsed": true
   },
   "outputs": [],
   "source": [
    "# Creating a pivot table \n",
    "\n",
    "pivot = pd.pivot_table(df, index='User ID',columns='Game Title',values='Hours Played')"
   ]
  },
  {
   "cell_type": "code",
   "execution_count": 7,
   "metadata": {
    "collapsed": true
   },
   "outputs": [],
   "source": [
    "# Replacing NaN's with 0's\n",
    "\n",
    "pivot.fillna(0,inplace=True)"
   ]
  },
  {
   "cell_type": "code",
   "execution_count": 8,
   "metadata": {},
   "outputs": [
    {
     "data": {
      "text/plain": [
       "(4806, 1024)"
      ]
     },
     "execution_count": 8,
     "metadata": {},
     "output_type": "execute_result"
    }
   ],
   "source": [
    "# Checking shape of pivot table\n",
    "\n",
    "pivot.shape"
   ]
  },
  {
   "cell_type": "code",
   "execution_count": 9,
   "metadata": {},
   "outputs": [
    {
     "data": {
      "text/plain": [
       "array([[-0.02036653, -0.01442625, -0.01442625, ..., -0.01442625,\n",
       "        -0.01819092, -0.01442625],\n",
       "       [-0.02036653, -0.01442625, -0.01442625, ..., -0.01442625,\n",
       "        -0.01819092, -0.01442625],\n",
       "       [-0.02036653, -0.01442625, -0.01442625, ..., -0.01442625,\n",
       "        -0.01819092, -0.01442625],\n",
       "       ...,\n",
       "       [-0.02036653, -0.01442625, -0.01442625, ..., -0.01442625,\n",
       "        -0.01819092, -0.01442625],\n",
       "       [-0.02036653, -0.01442625, -0.01442625, ..., -0.01442625,\n",
       "        -0.01819092, -0.01442625],\n",
       "       [-0.02036653, -0.01442625, -0.01442625, ..., -0.01442625,\n",
       "        -0.01819092, -0.01442625]])"
      ]
     },
     "execution_count": 9,
     "metadata": {},
     "output_type": "execute_result"
    }
   ],
   "source": [
    "# Scaling my data\n",
    "\n",
    "ss = StandardScaler()\n",
    "ss.fit_transform(pivot)"
   ]
  },
  {
   "cell_type": "code",
   "execution_count": 10,
   "metadata": {
    "collapsed": true
   },
   "outputs": [],
   "source": [
    "# Using pairwise distance to calculate correlation between games. I tried various metrics including: euclidean,hamming, etc.\n",
    "# Spearman's correlation created the most accurate recommendations\n",
    "\n",
    "distances = 1-pairwise_distances(pivot.T, metric='correlation')"
   ]
  },
  {
   "cell_type": "code",
   "execution_count": 11,
   "metadata": {
    "collapsed": true
   },
   "outputs": [],
   "source": [
    "# Putting distances in a df \n",
    "\n",
    "distance_df = pd.DataFrame(distances,index=pivot.columns, columns=pivot.columns)"
   ]
  },
  {
   "cell_type": "code",
   "execution_count": 12,
   "metadata": {},
   "outputs": [
    {
     "data": {
      "text/html": [
       "<div>\n",
       "<style scoped>\n",
       "    .dataframe tbody tr th:only-of-type {\n",
       "        vertical-align: middle;\n",
       "    }\n",
       "\n",
       "    .dataframe tbody tr th {\n",
       "        vertical-align: top;\n",
       "    }\n",
       "\n",
       "    .dataframe thead th {\n",
       "        text-align: right;\n",
       "    }\n",
       "</style>\n",
       "<table border=\"1\" class=\"dataframe\">\n",
       "  <thead>\n",
       "    <tr style=\"text-align: right;\">\n",
       "      <th>Game Title</th>\n",
       "      <th>100% Orange Juice</th>\n",
       "      <th>3DMark</th>\n",
       "      <th>4 Elements</th>\n",
       "      <th>7 Days to Die</th>\n",
       "      <th>A Game of Thrones - Genesis</th>\n",
       "      <th>A.V.A - Alliance of Valiant Arms</th>\n",
       "      <th>APB Reloaded</th>\n",
       "      <th>ARK Survival Evolved</th>\n",
       "      <th>Ace of Spades</th>\n",
       "      <th>Action! - Gameplay Recording and Streaming</th>\n",
       "      <th>...</th>\n",
       "      <th>XCOM Enemy Unknown</th>\n",
       "      <th>Xenonauts</th>\n",
       "      <th>You Must Build A Boat</th>\n",
       "      <th>You Need A Budget 4 (YNAB)</th>\n",
       "      <th>Zombie Panic Source</th>\n",
       "      <th>Zombies Monsters Robots</th>\n",
       "      <th>Zuma's Revenge</th>\n",
       "      <th>liteCam Game 100 FPS Game Capture</th>\n",
       "      <th>theHunter</th>\n",
       "      <th>theHunter Primal</th>\n",
       "    </tr>\n",
       "    <tr>\n",
       "      <th>Game Title</th>\n",
       "      <th></th>\n",
       "      <th></th>\n",
       "      <th></th>\n",
       "      <th></th>\n",
       "      <th></th>\n",
       "      <th></th>\n",
       "      <th></th>\n",
       "      <th></th>\n",
       "      <th></th>\n",
       "      <th></th>\n",
       "      <th></th>\n",
       "      <th></th>\n",
       "      <th></th>\n",
       "      <th></th>\n",
       "      <th></th>\n",
       "      <th></th>\n",
       "      <th></th>\n",
       "      <th></th>\n",
       "      <th></th>\n",
       "      <th></th>\n",
       "      <th></th>\n",
       "    </tr>\n",
       "  </thead>\n",
       "  <tbody>\n",
       "    <tr>\n",
       "      <th>100% Orange Juice</th>\n",
       "      <td>1.000000</td>\n",
       "      <td>-0.000294</td>\n",
       "      <td>-0.000294</td>\n",
       "      <td>-0.001036</td>\n",
       "      <td>-0.000294</td>\n",
       "      <td>-0.000294</td>\n",
       "      <td>-0.000509</td>\n",
       "      <td>-0.001851</td>\n",
       "      <td>-0.000411</td>\n",
       "      <td>-0.000483</td>\n",
       "      <td>...</td>\n",
       "      <td>-0.001588</td>\n",
       "      <td>-0.000409</td>\n",
       "      <td>-0.000294</td>\n",
       "      <td>-0.000384</td>\n",
       "      <td>-0.000529</td>\n",
       "      <td>-0.000294</td>\n",
       "      <td>-0.000294</td>\n",
       "      <td>-0.000294</td>\n",
       "      <td>-0.000370</td>\n",
       "      <td>-0.000294</td>\n",
       "    </tr>\n",
       "    <tr>\n",
       "      <th>3DMark</th>\n",
       "      <td>-0.000294</td>\n",
       "      <td>1.000000</td>\n",
       "      <td>-0.000208</td>\n",
       "      <td>-0.000734</td>\n",
       "      <td>-0.000208</td>\n",
       "      <td>-0.000208</td>\n",
       "      <td>-0.000361</td>\n",
       "      <td>-0.001311</td>\n",
       "      <td>-0.000291</td>\n",
       "      <td>-0.000342</td>\n",
       "      <td>...</td>\n",
       "      <td>-0.001125</td>\n",
       "      <td>-0.000290</td>\n",
       "      <td>-0.000208</td>\n",
       "      <td>-0.000272</td>\n",
       "      <td>-0.000375</td>\n",
       "      <td>-0.000208</td>\n",
       "      <td>-0.000208</td>\n",
       "      <td>-0.000208</td>\n",
       "      <td>-0.000262</td>\n",
       "      <td>-0.000208</td>\n",
       "    </tr>\n",
       "  </tbody>\n",
       "</table>\n",
       "<p>2 rows × 1024 columns</p>\n",
       "</div>"
      ],
      "text/plain": [
       "Game Title         100% Orange Juice    3DMark  4 Elements  7 Days to Die  \\\n",
       "Game Title                                                                  \n",
       "100% Orange Juice           1.000000 -0.000294   -0.000294      -0.001036   \n",
       "3DMark                     -0.000294  1.000000   -0.000208      -0.000734   \n",
       "\n",
       "Game Title         A Game of Thrones - Genesis  \\\n",
       "Game Title                                       \n",
       "100% Orange Juice                    -0.000294   \n",
       "3DMark                               -0.000208   \n",
       "\n",
       "Game Title         A.V.A - Alliance of Valiant Arms  APB Reloaded  \\\n",
       "Game Title                                                          \n",
       "100% Orange Juice                         -0.000294     -0.000509   \n",
       "3DMark                                    -0.000208     -0.000361   \n",
       "\n",
       "Game Title         ARK Survival Evolved  Ace of Spades  \\\n",
       "Game Title                                               \n",
       "100% Orange Juice             -0.001851      -0.000411   \n",
       "3DMark                        -0.001311      -0.000291   \n",
       "\n",
       "Game Title         Action! - Gameplay Recording and Streaming  \\\n",
       "Game Title                                                      \n",
       "100% Orange Juice                                   -0.000483   \n",
       "3DMark                                              -0.000342   \n",
       "\n",
       "Game Title               ...         XCOM Enemy Unknown  Xenonauts  \\\n",
       "Game Title               ...                                         \n",
       "100% Orange Juice        ...                  -0.001588  -0.000409   \n",
       "3DMark                   ...                  -0.001125  -0.000290   \n",
       "\n",
       "Game Title         You Must Build A Boat  You Need A Budget 4 (YNAB)  \\\n",
       "Game Title                                                             \n",
       "100% Orange Juice              -0.000294                   -0.000384   \n",
       "3DMark                         -0.000208                   -0.000272   \n",
       "\n",
       "Game Title         Zombie Panic Source  Zombies Monsters Robots  \\\n",
       "Game Title                                                        \n",
       "100% Orange Juice            -0.000529                -0.000294   \n",
       "3DMark                       -0.000375                -0.000208   \n",
       "\n",
       "Game Title         Zuma's Revenge  liteCam Game 100 FPS Game Capture  \\\n",
       "Game Title                                                             \n",
       "100% Orange Juice       -0.000294                          -0.000294   \n",
       "3DMark                  -0.000208                          -0.000208   \n",
       "\n",
       "Game Title         theHunter  theHunter Primal  \n",
       "Game Title                                      \n",
       "100% Orange Juice  -0.000370         -0.000294  \n",
       "3DMark             -0.000262         -0.000208  \n",
       "\n",
       "[2 rows x 1024 columns]"
      ]
     },
     "execution_count": 12,
     "metadata": {},
     "output_type": "execute_result"
    }
   ],
   "source": [
    "# Checking the df to verify everything worked okay\n",
    "\n",
    "distance_df.head(2)"
   ]
  },
  {
   "cell_type": "code",
   "execution_count": 13,
   "metadata": {},
   "outputs": [
    {
     "data": {
      "text/plain": [
       "Game Title\n",
       "Commandos 2 Men of Courage                               0.513889\n",
       "Red Faction Guerrilla Steam Edition                      0.437213\n",
       "Sid Meier's Civilization IV                              0.415664\n",
       "The Elder Scrolls IV Oblivion                            0.398951\n",
       "Dungeons & Dragons Online                                0.284860\n",
       "Magic The Gathering - Duels of the Planeswalkers 2013    0.275663\n",
       "The Last Remnant                                         0.218871\n",
       "Marvel Puzzle Quest                                      0.197486\n",
       "The Elder Scrolls III Morrowind                          0.196513\n",
       "Gems of War                                              0.190243\n",
       "Kingdoms of Amalur Reckoning                             0.182772\n",
       "Magic The Gathering  Duels of the Planeswalkers 2012     0.168754\n",
       "Deus Ex Game of the Year Edition                         0.152852\n",
       "Jade Empire Special Edition                              0.152852\n",
       "Name: Fallout 3, dtype: float64"
      ]
     },
     "execution_count": 13,
     "metadata": {},
     "output_type": "execute_result"
    }
   ],
   "source": [
    "# Viewing recommendations for a game\n",
    "\n",
    "query = \"Fallout 3\"\n",
    "query = [col for col in distance_df.columns if query in col][0]\n",
    "distance_df[query].sort_values(ascending=False)[1:15]"
   ]
  },
  {
   "cell_type": "code",
   "execution_count": 14,
   "metadata": {},
   "outputs": [
    {
     "data": {
      "text/plain": [
       "Game Title\n",
       "Bound By Flame                                        0.352008\n",
       "Galactic Civilizations III                            0.318673\n",
       "Elite Dangerous                                       0.294683\n",
       "Tom Clancy's Ghost Recon Future Soldier               0.242645\n",
       "The Wolf Among Us                                     0.222633\n",
       "Total War ATTILA                                      0.211930\n",
       "Lords Of The Fallen                                   0.174389\n",
       "NOBUNAGA'S AMBITION Sphere of Influence               0.164087\n",
       "The Walking Dead Season Two                           0.145885\n",
       "Impire                                                0.143427\n",
       "Age of Wonders                                        0.143427\n",
       "Krater                                                0.143427\n",
       "The Incredible Adventures of Van Helsing Final Cut    0.143427\n",
       "Warframe                                              0.132708\n",
       "Name: Path of Exile, dtype: float64"
      ]
     },
     "execution_count": 14,
     "metadata": {},
     "output_type": "execute_result"
    }
   ],
   "source": [
    "# Viewing recommendations for a game\n",
    "\n",
    "query = \"Path of Exile\"\n",
    "query = [col for col in distance_df.columns if query in col][0]\n",
    "distance_df[query].sort_values(ascending=False)[1:15]"
   ]
  },
  {
   "cell_type": "code",
   "execution_count": 15,
   "metadata": {},
   "outputs": [
    {
     "data": {
      "text/plain": [
       "Game Title\n",
       "Company of Heroes Opposing Fronts             0.109898\n",
       "Dark Messiah of Might & Magic Multi-Player    0.098821\n",
       "Titan Quest                                   0.092131\n",
       "I Am Alive                                    0.074295\n",
       "Alan Wake                                     0.072529\n",
       "Darksiders                                    0.067325\n",
       "Nuclear Dawn                                  0.063371\n",
       "Warhammer 40,000 Dawn of War  Soulstorm       0.063371\n",
       "Warhammer End Times - Vermintide              0.062489\n",
       "Dungeon Defenders II                          0.060049\n",
       "Everlasting Summer                            0.057466\n",
       "Devilian                                      0.056463\n",
       "Nosgoth                                       0.055829\n",
       "Sonic & All-Stars Racing Transformed          0.052327\n",
       "Name: Dota 2, dtype: float64"
      ]
     },
     "execution_count": 15,
     "metadata": {},
     "output_type": "execute_result"
    }
   ],
   "source": [
    "# Viewing recommendations for a game\n",
    "\n",
    "query = \"Dota 2\"\n",
    "query = [col for col in distance_df.columns if query in col][0]\n",
    "distance_df[query].sort_values(ascending=False)[1:15]"
   ]
  },
  {
   "cell_type": "code",
   "execution_count": 16,
   "metadata": {},
   "outputs": [
    {
     "data": {
      "text/plain": [
       "Game Title\n",
       "Call of Duty Black Ops - Multiplayer OSX    0.235975\n",
       "Counter-Strike Source                       0.228610\n",
       "TrackMania United                           0.212408\n",
       "Pro Cycling Manager 2015                    0.212408\n",
       "KickBeat Steam Edition                      0.199878\n",
       "Pro Cycling Manager 2013                    0.197444\n",
       "Rust                                        0.148627\n",
       "Nidhogg                                     0.141645\n",
       "Two Worlds II                               0.122707\n",
       "Garry's Mod                                 0.100130\n",
       "DayZ                                        0.098952\n",
       "GRID 2                                      0.098919\n",
       "AdVenture Capitalist                        0.095746\n",
       "Call of Duty Advanced Warfare               0.087080\n",
       "Name: Counter-Strike Global Offensive, dtype: float64"
      ]
     },
     "execution_count": 16,
     "metadata": {},
     "output_type": "execute_result"
    }
   ],
   "source": [
    "# Viewing recommendations for a game\n",
    "\n",
    "query = \"Counter-Strike Global Offensive\"\n",
    "query = [col for col in distance_df.columns if query in col][0]\n",
    "distance_df[query].sort_values(ascending=False)[1:15]"
   ]
  }
 ],
 "metadata": {
  "kernelspec": {
   "display_name": "Python [conda env:dsi]",
   "language": "python",
   "name": "conda-env-dsi-py"
  },
  "language_info": {
   "codemirror_mode": {
    "name": "ipython",
    "version": 3
   },
   "file_extension": ".py",
   "mimetype": "text/x-python",
   "name": "python",
   "nbconvert_exporter": "python",
   "pygments_lexer": "ipython3",
   "version": "3.6.5"
  }
 },
 "nbformat": 4,
 "nbformat_minor": 2
}
